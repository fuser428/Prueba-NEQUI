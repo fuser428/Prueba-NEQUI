{
  "nbformat": 4,
  "nbformat_minor": 0,
  "metadata": {
    "colab": {
      "provenance": [],
      "machine_shape": "hm"
    },
    "kernelspec": {
      "name": "python3",
      "display_name": "Python 3"
    },
    "language_info": {
      "name": "python"
    },
    "gpuClass": "premium",
    "accelerator": "GPU"
  },
  "cells": [
    {
      "cell_type": "code",
      "execution_count": null,
      "metadata": {
        "id": "82KdaPl8KtRU"
      },
      "outputs": [],
      "source": []
    },
    {
      "cell_type": "markdown",
      "source": [
        "1.PAQUETES"
      ],
      "metadata": {
        "id": "TrW1DVLQK3kz"
      }
    },
    {
      "cell_type": "markdown",
      "source": [
        "1.1 fundamentales"
      ],
      "metadata": {
        "id": "reRD_JQwLc_r"
      }
    },
    {
      "cell_type": "code",
      "source": [
        "import numpy as np\n",
        "import pandas as pd\n",
        "import datetime as dt\n",
        "pd.options.display.float_format = '{:.4f}'.format"
      ],
      "metadata": {
        "id": "96N4-UbfLh9t"
      },
      "execution_count": 1,
      "outputs": []
    },
    {
      "cell_type": "markdown",
      "source": [
        "1.2 Gráficos"
      ],
      "metadata": {
        "id": "bd_05eRIMb_Z"
      }
    },
    {
      "cell_type": "code",
      "source": [
        "#matplotlib\n",
        "import matplotlib.pyplot as plt\n",
        "plt.style.use('ggplot')\n",
        "%matplotlib inline\n",
        "#plotly\n",
        "import plotly.graph_objects as go\n",
        "import plotly.express as px\n",
        "from plotly.subplots import make_subplots\n",
        "#seaborn\n",
        "import seaborn as sns"
      ],
      "metadata": {
        "id": "lFonYrOIMlab"
      },
      "execution_count": 2,
      "outputs": []
    },
    {
      "cell_type": "markdown",
      "source": [
        "1.3 Modelos"
      ],
      "metadata": {
        "id": "5kIOx_roRA1c"
      }
    },
    {
      "cell_type": "code",
      "source": [
        "#sklearn\n",
        "from sklearn.pipeline import Pipeline\n",
        "from sklearn.model_selection import train_test_split, cross_val_score, KFold, GridSearchCV, StratifiedKFold\n",
        "from sklearn import preprocessing\n",
        "from sklearn.preprocessing import StandardScaler, OneHotEncoder\n",
        "from sklearn.compose import ColumnTransformer, make_column_selector \n",
        "from sklearn.linear_model import LogisticRegression, LogisticRegressionCV\n",
        "from sklearn.metrics import roc_curve, auc, accuracy_score, plot_confusion_matrix, classification_report, f1_score\n",
        "from sklearn.tree import DecisionTreeClassifier\n",
        "from sklearn.ensemble import AdaBoostClassifier, GradientBoostingClassifier, RandomForestClassifier\n",
        "from sklearn.feature_selection import RFE, SelectKBest, f_classif,RFECV\n",
        "#xgboost\n",
        "from xgboost import XGBClassifier\n",
        "#imblearn\n",
        "from imblearn.over_sampling import RandomOverSampler\n",
        "from imblearn.over_sampling import SMOTENC\n",
        "import multiprocessing"
      ],
      "metadata": {
        "id": "3ygbPjiJRG6m"
      },
      "execution_count": 3,
      "outputs": []
    },
    {
      "cell_type": "markdown",
      "source": [
        "2.DATOS"
      ],
      "metadata": {
        "id": "RyqADGhLS4Jt"
      }
    },
    {
      "cell_type": "code",
      "source": [
        "#leemos los datos\n",
        "base1=pd.read_parquet('sample_data_0000_part_00.parquet')\n",
        "base2=pd.read_parquet('sample_data_0001_part_00.parquet')"
      ],
      "metadata": {
        "id": "2A5GGTm6S8RU"
      },
      "execution_count": 4,
      "outputs": []
    },
    {
      "cell_type": "code",
      "source": [
        "#unimos los data frames\n",
        "datosmod=pd.concat([base1,base2])"
      ],
      "metadata": {
        "id": "Z8QeREIvoygM"
      },
      "execution_count": 5,
      "outputs": []
    },
    {
      "cell_type": "code",
      "source": [
        "#se limpia indexacion\n",
        "datosmod=datosmod.reset_index()\n",
        "datosmod.drop(['index'],axis=1,inplace=True)"
      ],
      "metadata": {
        "id": "cScc4Qm59ORd"
      },
      "execution_count": 6,
      "outputs": []
    },
    {
      "cell_type": "code",
      "source": [
        "#vemos los tipos de datos que tiene el data frame\n",
        "datosmod.info()"
      ],
      "metadata": {
        "id": "5NaUEERW9SUI",
        "colab": {
          "base_uri": "https://localhost:8080/"
        },
        "outputId": "7cb52241-1c92-4d25-c30c-a552abc68fcf"
      },
      "execution_count": 7,
      "outputs": [
        {
          "output_type": "stream",
          "name": "stdout",
          "text": [
            "<class 'pandas.core.frame.DataFrame'>\n",
            "RangeIndex: 21517522 entries, 0 to 21517521\n",
            "Data columns (total 8 columns):\n",
            " #   Column              Dtype         \n",
            "---  ------              -----         \n",
            " 0   merchant_id         object        \n",
            " 1   _id                 object        \n",
            " 2   subsidiary          object        \n",
            " 3   transaction_date    datetime64[ns]\n",
            " 4   account_number      object        \n",
            " 5   user_id             object        \n",
            " 6   transaction_amount  object        \n",
            " 7   transaction_type    object        \n",
            "dtypes: datetime64[ns](1), object(7)\n",
            "memory usage: 1.3+ GB\n"
          ]
        }
      ]
    },
    {
      "cell_type": "code",
      "source": [
        "# transformamo el campo transaction_amount en un flotante\n",
        "datosmod['transaction_amount']=datosmod['transaction_amount'].astype(float)"
      ],
      "metadata": {
        "id": "tf1MBIw_9VZS"
      },
      "execution_count": 8,
      "outputs": []
    },
    {
      "cell_type": "code",
      "source": [
        "# transformamos la variable transaction_date en formato de fecha\n",
        "datosmod['transaction_date']=pd.to_datetime(datosmod['transaction_date'],format=\"%Y-%m-%d %H:%M:%S\")"
      ],
      "metadata": {
        "id": "gWWplTW29YTB"
      },
      "execution_count": 10,
      "outputs": []
    },
    {
      "cell_type": "code",
      "source": [
        "# venos como queda el data frame\n",
        "datosmod"
      ],
      "metadata": {
        "id": "1n53JRmuBcym",
        "colab": {
          "base_uri": "https://localhost:8080/",
          "height": 488
        },
        "outputId": "72bf7285-346e-44fd-aa94-1d469db22a2b"
      },
      "execution_count": 11,
      "outputs": [
        {
          "output_type": "execute_result",
          "data": {
            "text/plain": [
              "                               merchant_id                               _id  \\\n",
              "0         075d178871d8d48502bf1f54887e52fe  3aeb98f02b9fbf01cc14f1679b09d5e0   \n",
              "1         075d178871d8d48502bf1f54887e52fe  dce1a8ee2b93dcf25a3ab04a7704004a   \n",
              "2         075d178871d8d48502bf1f54887e52fe  d4a6a637e49e790d5810a4abc5352c53   \n",
              "3         075d178871d8d48502bf1f54887e52fe  46032962fab1112ffaa63276cc17b19e   \n",
              "4         075d178871d8d48502bf1f54887e52fe  4bd76c0db0a932fa5e7194c0eee85fd0   \n",
              "...                                    ...                               ...   \n",
              "21517517  838a8fa992a4aa2fb5a0cf8b15b63755  79d671836ba9338658bd4cb4b25e13c5   \n",
              "21517518  838a8fa992a4aa2fb5a0cf8b15b63755  78b0f4786b79c486ebf102957ced9276   \n",
              "21517519  838a8fa992a4aa2fb5a0cf8b15b63755  3c608846d3856e330163baf627a4a543   \n",
              "21517520  838a8fa992a4aa2fb5a0cf8b15b63755  5de17bf45a6f99c7688f5ac470a012bf   \n",
              "21517521  838a8fa992a4aa2fb5a0cf8b15b63755  47860bb4e1a22b44d3c52ee8fe0e9fd2   \n",
              "\n",
              "                                subsidiary    transaction_date  \\\n",
              "0         fb502e2ca32fb79609ca7514d41c02cd 2021-09-12 18:07:10   \n",
              "1         9dbcf12729217f1027caf6b1e7eb5728 2021-09-12 18:06:56   \n",
              "2         e3936fe59f0f400afa47802c0f4c2ba2 2021-09-12 18:06:37   \n",
              "3         40d92864e9f2bfb038a41804045cd700 2021-09-12 18:07:19   \n",
              "4         66c09ecb6efbff04e80f3f491801e371 2021-09-12 18:06:23   \n",
              "...                                    ...                 ...   \n",
              "21517517  8381d930b53242e6cbf7c4e57d01c672 2021-11-30 19:20:32   \n",
              "21517518  c17cc7eaa5965f1a3fa31c8f05cff1b4 2021-11-30 19:17:56   \n",
              "21517519  05fba1fef81e9579b6fd81f677bcf158 2021-11-30 20:10:26   \n",
              "21517520  b91acbff640664832560b75d9a967852 2021-11-30 21:09:44   \n",
              "21517521  4304d6a61f3a5df338d54eadf978fa04 2021-11-30 22:11:07   \n",
              "\n",
              "                            account_number                           user_id  \\\n",
              "0         cc18c62a51b048ebf7e11ef8994c1ff3  d796d6838f4874508d5a7d1fd6fef607   \n",
              "1         d8e0d4c8125577f5a3633dd6af140eaa  eb4464242fe2bb9b7fbf6d3d38474c1e   \n",
              "2         d0d42a4eeb347c6492ef981985a47732  cbcf418306db3db0486c359b0f5b7ffa   \n",
              "3         0863565298fcac1cde864beac71480c3  1053091431afaccf776a6aa7da47937f   \n",
              "4         c5aaf5485c512e5b76bf6be7d736e9d0  ce1c4d09bf3df578d3b48ecc23cd201d   \n",
              "...                                    ...                               ...   \n",
              "21517517  e219af89710a380771cbdac66f53112a  5774e7f89f18306fa4d328fc26bcc61d   \n",
              "21517518  ba084205f828f83a551da21c5a49b7f1  016a15cd703ef0452773e74310a24ce9   \n",
              "21517519  0f0d52a707f3e8d0c172aebda2562630  0897bbbf246dd84d59f150414e7ce2bb   \n",
              "21517520  2eea6649d3d3ca8eacfa7ca7451bde45  5746c663759030b6b111aaa996d5880a   \n",
              "21517521  ebbb11ab6298322569941b0a2f76cbf0  4937eaaef6ed6135107bbf2def30ab18   \n",
              "\n",
              "          transaction_amount transaction_type  \n",
              "0                    59.4446          CREDITO  \n",
              "1                    23.7778          CREDITO  \n",
              "2                    35.6667          CREDITO  \n",
              "3                    10.7000          CREDITO  \n",
              "4                    59.4446          CREDITO  \n",
              "...                      ...              ...  \n",
              "21517517             41.6112          CREDITO  \n",
              "21517518            249.6671          CREDITO  \n",
              "21517519              5.9445          CREDITO  \n",
              "21517520             11.8889          CREDITO  \n",
              "21517521            356.6673          CREDITO  \n",
              "\n",
              "[21517522 rows x 8 columns]"
            ],
            "text/html": [
              "\n",
              "  <div id=\"df-9632f2fd-19e7-4bda-bfb1-0783e69fce93\">\n",
              "    <div class=\"colab-df-container\">\n",
              "      <div>\n",
              "<style scoped>\n",
              "    .dataframe tbody tr th:only-of-type {\n",
              "        vertical-align: middle;\n",
              "    }\n",
              "\n",
              "    .dataframe tbody tr th {\n",
              "        vertical-align: top;\n",
              "    }\n",
              "\n",
              "    .dataframe thead th {\n",
              "        text-align: right;\n",
              "    }\n",
              "</style>\n",
              "<table border=\"1\" class=\"dataframe\">\n",
              "  <thead>\n",
              "    <tr style=\"text-align: right;\">\n",
              "      <th></th>\n",
              "      <th>merchant_id</th>\n",
              "      <th>_id</th>\n",
              "      <th>subsidiary</th>\n",
              "      <th>transaction_date</th>\n",
              "      <th>account_number</th>\n",
              "      <th>user_id</th>\n",
              "      <th>transaction_amount</th>\n",
              "      <th>transaction_type</th>\n",
              "    </tr>\n",
              "  </thead>\n",
              "  <tbody>\n",
              "    <tr>\n",
              "      <th>0</th>\n",
              "      <td>075d178871d8d48502bf1f54887e52fe</td>\n",
              "      <td>3aeb98f02b9fbf01cc14f1679b09d5e0</td>\n",
              "      <td>fb502e2ca32fb79609ca7514d41c02cd</td>\n",
              "      <td>2021-09-12 18:07:10</td>\n",
              "      <td>cc18c62a51b048ebf7e11ef8994c1ff3</td>\n",
              "      <td>d796d6838f4874508d5a7d1fd6fef607</td>\n",
              "      <td>59.4446</td>\n",
              "      <td>CREDITO</td>\n",
              "    </tr>\n",
              "    <tr>\n",
              "      <th>1</th>\n",
              "      <td>075d178871d8d48502bf1f54887e52fe</td>\n",
              "      <td>dce1a8ee2b93dcf25a3ab04a7704004a</td>\n",
              "      <td>9dbcf12729217f1027caf6b1e7eb5728</td>\n",
              "      <td>2021-09-12 18:06:56</td>\n",
              "      <td>d8e0d4c8125577f5a3633dd6af140eaa</td>\n",
              "      <td>eb4464242fe2bb9b7fbf6d3d38474c1e</td>\n",
              "      <td>23.7778</td>\n",
              "      <td>CREDITO</td>\n",
              "    </tr>\n",
              "    <tr>\n",
              "      <th>2</th>\n",
              "      <td>075d178871d8d48502bf1f54887e52fe</td>\n",
              "      <td>d4a6a637e49e790d5810a4abc5352c53</td>\n",
              "      <td>e3936fe59f0f400afa47802c0f4c2ba2</td>\n",
              "      <td>2021-09-12 18:06:37</td>\n",
              "      <td>d0d42a4eeb347c6492ef981985a47732</td>\n",
              "      <td>cbcf418306db3db0486c359b0f5b7ffa</td>\n",
              "      <td>35.6667</td>\n",
              "      <td>CREDITO</td>\n",
              "    </tr>\n",
              "    <tr>\n",
              "      <th>3</th>\n",
              "      <td>075d178871d8d48502bf1f54887e52fe</td>\n",
              "      <td>46032962fab1112ffaa63276cc17b19e</td>\n",
              "      <td>40d92864e9f2bfb038a41804045cd700</td>\n",
              "      <td>2021-09-12 18:07:19</td>\n",
              "      <td>0863565298fcac1cde864beac71480c3</td>\n",
              "      <td>1053091431afaccf776a6aa7da47937f</td>\n",
              "      <td>10.7000</td>\n",
              "      <td>CREDITO</td>\n",
              "    </tr>\n",
              "    <tr>\n",
              "      <th>4</th>\n",
              "      <td>075d178871d8d48502bf1f54887e52fe</td>\n",
              "      <td>4bd76c0db0a932fa5e7194c0eee85fd0</td>\n",
              "      <td>66c09ecb6efbff04e80f3f491801e371</td>\n",
              "      <td>2021-09-12 18:06:23</td>\n",
              "      <td>c5aaf5485c512e5b76bf6be7d736e9d0</td>\n",
              "      <td>ce1c4d09bf3df578d3b48ecc23cd201d</td>\n",
              "      <td>59.4446</td>\n",
              "      <td>CREDITO</td>\n",
              "    </tr>\n",
              "    <tr>\n",
              "      <th>...</th>\n",
              "      <td>...</td>\n",
              "      <td>...</td>\n",
              "      <td>...</td>\n",
              "      <td>...</td>\n",
              "      <td>...</td>\n",
              "      <td>...</td>\n",
              "      <td>...</td>\n",
              "      <td>...</td>\n",
              "    </tr>\n",
              "    <tr>\n",
              "      <th>21517517</th>\n",
              "      <td>838a8fa992a4aa2fb5a0cf8b15b63755</td>\n",
              "      <td>79d671836ba9338658bd4cb4b25e13c5</td>\n",
              "      <td>8381d930b53242e6cbf7c4e57d01c672</td>\n",
              "      <td>2021-11-30 19:20:32</td>\n",
              "      <td>e219af89710a380771cbdac66f53112a</td>\n",
              "      <td>5774e7f89f18306fa4d328fc26bcc61d</td>\n",
              "      <td>41.6112</td>\n",
              "      <td>CREDITO</td>\n",
              "    </tr>\n",
              "    <tr>\n",
              "      <th>21517518</th>\n",
              "      <td>838a8fa992a4aa2fb5a0cf8b15b63755</td>\n",
              "      <td>78b0f4786b79c486ebf102957ced9276</td>\n",
              "      <td>c17cc7eaa5965f1a3fa31c8f05cff1b4</td>\n",
              "      <td>2021-11-30 19:17:56</td>\n",
              "      <td>ba084205f828f83a551da21c5a49b7f1</td>\n",
              "      <td>016a15cd703ef0452773e74310a24ce9</td>\n",
              "      <td>249.6671</td>\n",
              "      <td>CREDITO</td>\n",
              "    </tr>\n",
              "    <tr>\n",
              "      <th>21517519</th>\n",
              "      <td>838a8fa992a4aa2fb5a0cf8b15b63755</td>\n",
              "      <td>3c608846d3856e330163baf627a4a543</td>\n",
              "      <td>05fba1fef81e9579b6fd81f677bcf158</td>\n",
              "      <td>2021-11-30 20:10:26</td>\n",
              "      <td>0f0d52a707f3e8d0c172aebda2562630</td>\n",
              "      <td>0897bbbf246dd84d59f150414e7ce2bb</td>\n",
              "      <td>5.9445</td>\n",
              "      <td>CREDITO</td>\n",
              "    </tr>\n",
              "    <tr>\n",
              "      <th>21517520</th>\n",
              "      <td>838a8fa992a4aa2fb5a0cf8b15b63755</td>\n",
              "      <td>5de17bf45a6f99c7688f5ac470a012bf</td>\n",
              "      <td>b91acbff640664832560b75d9a967852</td>\n",
              "      <td>2021-11-30 21:09:44</td>\n",
              "      <td>2eea6649d3d3ca8eacfa7ca7451bde45</td>\n",
              "      <td>5746c663759030b6b111aaa996d5880a</td>\n",
              "      <td>11.8889</td>\n",
              "      <td>CREDITO</td>\n",
              "    </tr>\n",
              "    <tr>\n",
              "      <th>21517521</th>\n",
              "      <td>838a8fa992a4aa2fb5a0cf8b15b63755</td>\n",
              "      <td>47860bb4e1a22b44d3c52ee8fe0e9fd2</td>\n",
              "      <td>4304d6a61f3a5df338d54eadf978fa04</td>\n",
              "      <td>2021-11-30 22:11:07</td>\n",
              "      <td>ebbb11ab6298322569941b0a2f76cbf0</td>\n",
              "      <td>4937eaaef6ed6135107bbf2def30ab18</td>\n",
              "      <td>356.6673</td>\n",
              "      <td>CREDITO</td>\n",
              "    </tr>\n",
              "  </tbody>\n",
              "</table>\n",
              "<p>21517522 rows × 8 columns</p>\n",
              "</div>\n",
              "      <button class=\"colab-df-convert\" onclick=\"convertToInteractive('df-9632f2fd-19e7-4bda-bfb1-0783e69fce93')\"\n",
              "              title=\"Convert this dataframe to an interactive table.\"\n",
              "              style=\"display:none;\">\n",
              "        \n",
              "  <svg xmlns=\"http://www.w3.org/2000/svg\" height=\"24px\"viewBox=\"0 0 24 24\"\n",
              "       width=\"24px\">\n",
              "    <path d=\"M0 0h24v24H0V0z\" fill=\"none\"/>\n",
              "    <path d=\"M18.56 5.44l.94 2.06.94-2.06 2.06-.94-2.06-.94-.94-2.06-.94 2.06-2.06.94zm-11 1L8.5 8.5l.94-2.06 2.06-.94-2.06-.94L8.5 2.5l-.94 2.06-2.06.94zm10 10l.94 2.06.94-2.06 2.06-.94-2.06-.94-.94-2.06-.94 2.06-2.06.94z\"/><path d=\"M17.41 7.96l-1.37-1.37c-.4-.4-.92-.59-1.43-.59-.52 0-1.04.2-1.43.59L10.3 9.45l-7.72 7.72c-.78.78-.78 2.05 0 2.83L4 21.41c.39.39.9.59 1.41.59.51 0 1.02-.2 1.41-.59l7.78-7.78 2.81-2.81c.8-.78.8-2.07 0-2.86zM5.41 20L4 18.59l7.72-7.72 1.47 1.35L5.41 20z\"/>\n",
              "  </svg>\n",
              "      </button>\n",
              "      \n",
              "  <style>\n",
              "    .colab-df-container {\n",
              "      display:flex;\n",
              "      flex-wrap:wrap;\n",
              "      gap: 12px;\n",
              "    }\n",
              "\n",
              "    .colab-df-convert {\n",
              "      background-color: #E8F0FE;\n",
              "      border: none;\n",
              "      border-radius: 50%;\n",
              "      cursor: pointer;\n",
              "      display: none;\n",
              "      fill: #1967D2;\n",
              "      height: 32px;\n",
              "      padding: 0 0 0 0;\n",
              "      width: 32px;\n",
              "    }\n",
              "\n",
              "    .colab-df-convert:hover {\n",
              "      background-color: #E2EBFA;\n",
              "      box-shadow: 0px 1px 2px rgba(60, 64, 67, 0.3), 0px 1px 3px 1px rgba(60, 64, 67, 0.15);\n",
              "      fill: #174EA6;\n",
              "    }\n",
              "\n",
              "    [theme=dark] .colab-df-convert {\n",
              "      background-color: #3B4455;\n",
              "      fill: #D2E3FC;\n",
              "    }\n",
              "\n",
              "    [theme=dark] .colab-df-convert:hover {\n",
              "      background-color: #434B5C;\n",
              "      box-shadow: 0px 1px 3px 1px rgba(0, 0, 0, 0.15);\n",
              "      filter: drop-shadow(0px 1px 2px rgba(0, 0, 0, 0.3));\n",
              "      fill: #FFFFFF;\n",
              "    }\n",
              "  </style>\n",
              "\n",
              "      <script>\n",
              "        const buttonEl =\n",
              "          document.querySelector('#df-9632f2fd-19e7-4bda-bfb1-0783e69fce93 button.colab-df-convert');\n",
              "        buttonEl.style.display =\n",
              "          google.colab.kernel.accessAllowed ? 'block' : 'none';\n",
              "\n",
              "        async function convertToInteractive(key) {\n",
              "          const element = document.querySelector('#df-9632f2fd-19e7-4bda-bfb1-0783e69fce93');\n",
              "          const dataTable =\n",
              "            await google.colab.kernel.invokeFunction('convertToInteractive',\n",
              "                                                     [key], {});\n",
              "          if (!dataTable) return;\n",
              "\n",
              "          const docLinkHtml = 'Like what you see? Visit the ' +\n",
              "            '<a target=\"_blank\" href=https://colab.research.google.com/notebooks/data_table.ipynb>data table notebook</a>'\n",
              "            + ' to learn more about interactive tables.';\n",
              "          element.innerHTML = '';\n",
              "          dataTable['output_type'] = 'display_data';\n",
              "          await google.colab.output.renderOutput(dataTable, element);\n",
              "          const docLink = document.createElement('div');\n",
              "          docLink.innerHTML = docLinkHtml;\n",
              "          element.appendChild(docLink);\n",
              "        }\n",
              "      </script>\n",
              "    </div>\n",
              "  </div>\n",
              "  "
            ]
          },
          "metadata": {},
          "execution_count": 11
        }
      ]
    },
    {
      "cell_type": "markdown",
      "source": [
        "3.Descriptivo"
      ],
      "metadata": {
        "id": "MqMFEGehBVNl"
      }
    },
    {
      "cell_type": "code",
      "source": [
        "datosmod.describe()"
      ],
      "metadata": {
        "colab": {
          "base_uri": "https://localhost:8080/",
          "height": 300
        },
        "id": "WRjiMh9hFgxr",
        "outputId": "5802b8f6-8a91-4e12-cba0-8390e41e1b15"
      },
      "execution_count": 12,
      "outputs": [
        {
          "output_type": "execute_result",
          "data": {
            "text/plain": [
              "       transaction_amount\n",
              "count       21517522.0000\n",
              "mean             190.8957\n",
              "std              240.1431\n",
              "min                5.9445\n",
              "25%               35.6667\n",
              "50%              107.0002\n",
              "75%              237.7782\n",
              "max             3210.0057"
            ],
            "text/html": [
              "\n",
              "  <div id=\"df-5c21781c-9171-4f1c-b15d-409f34da443f\">\n",
              "    <div class=\"colab-df-container\">\n",
              "      <div>\n",
              "<style scoped>\n",
              "    .dataframe tbody tr th:only-of-type {\n",
              "        vertical-align: middle;\n",
              "    }\n",
              "\n",
              "    .dataframe tbody tr th {\n",
              "        vertical-align: top;\n",
              "    }\n",
              "\n",
              "    .dataframe thead th {\n",
              "        text-align: right;\n",
              "    }\n",
              "</style>\n",
              "<table border=\"1\" class=\"dataframe\">\n",
              "  <thead>\n",
              "    <tr style=\"text-align: right;\">\n",
              "      <th></th>\n",
              "      <th>transaction_amount</th>\n",
              "    </tr>\n",
              "  </thead>\n",
              "  <tbody>\n",
              "    <tr>\n",
              "      <th>count</th>\n",
              "      <td>21517522.0000</td>\n",
              "    </tr>\n",
              "    <tr>\n",
              "      <th>mean</th>\n",
              "      <td>190.8957</td>\n",
              "    </tr>\n",
              "    <tr>\n",
              "      <th>std</th>\n",
              "      <td>240.1431</td>\n",
              "    </tr>\n",
              "    <tr>\n",
              "      <th>min</th>\n",
              "      <td>5.9445</td>\n",
              "    </tr>\n",
              "    <tr>\n",
              "      <th>25%</th>\n",
              "      <td>35.6667</td>\n",
              "    </tr>\n",
              "    <tr>\n",
              "      <th>50%</th>\n",
              "      <td>107.0002</td>\n",
              "    </tr>\n",
              "    <tr>\n",
              "      <th>75%</th>\n",
              "      <td>237.7782</td>\n",
              "    </tr>\n",
              "    <tr>\n",
              "      <th>max</th>\n",
              "      <td>3210.0057</td>\n",
              "    </tr>\n",
              "  </tbody>\n",
              "</table>\n",
              "</div>\n",
              "      <button class=\"colab-df-convert\" onclick=\"convertToInteractive('df-5c21781c-9171-4f1c-b15d-409f34da443f')\"\n",
              "              title=\"Convert this dataframe to an interactive table.\"\n",
              "              style=\"display:none;\">\n",
              "        \n",
              "  <svg xmlns=\"http://www.w3.org/2000/svg\" height=\"24px\"viewBox=\"0 0 24 24\"\n",
              "       width=\"24px\">\n",
              "    <path d=\"M0 0h24v24H0V0z\" fill=\"none\"/>\n",
              "    <path d=\"M18.56 5.44l.94 2.06.94-2.06 2.06-.94-2.06-.94-.94-2.06-.94 2.06-2.06.94zm-11 1L8.5 8.5l.94-2.06 2.06-.94-2.06-.94L8.5 2.5l-.94 2.06-2.06.94zm10 10l.94 2.06.94-2.06 2.06-.94-2.06-.94-.94-2.06-.94 2.06-2.06.94z\"/><path d=\"M17.41 7.96l-1.37-1.37c-.4-.4-.92-.59-1.43-.59-.52 0-1.04.2-1.43.59L10.3 9.45l-7.72 7.72c-.78.78-.78 2.05 0 2.83L4 21.41c.39.39.9.59 1.41.59.51 0 1.02-.2 1.41-.59l7.78-7.78 2.81-2.81c.8-.78.8-2.07 0-2.86zM5.41 20L4 18.59l7.72-7.72 1.47 1.35L5.41 20z\"/>\n",
              "  </svg>\n",
              "      </button>\n",
              "      \n",
              "  <style>\n",
              "    .colab-df-container {\n",
              "      display:flex;\n",
              "      flex-wrap:wrap;\n",
              "      gap: 12px;\n",
              "    }\n",
              "\n",
              "    .colab-df-convert {\n",
              "      background-color: #E8F0FE;\n",
              "      border: none;\n",
              "      border-radius: 50%;\n",
              "      cursor: pointer;\n",
              "      display: none;\n",
              "      fill: #1967D2;\n",
              "      height: 32px;\n",
              "      padding: 0 0 0 0;\n",
              "      width: 32px;\n",
              "    }\n",
              "\n",
              "    .colab-df-convert:hover {\n",
              "      background-color: #E2EBFA;\n",
              "      box-shadow: 0px 1px 2px rgba(60, 64, 67, 0.3), 0px 1px 3px 1px rgba(60, 64, 67, 0.15);\n",
              "      fill: #174EA6;\n",
              "    }\n",
              "\n",
              "    [theme=dark] .colab-df-convert {\n",
              "      background-color: #3B4455;\n",
              "      fill: #D2E3FC;\n",
              "    }\n",
              "\n",
              "    [theme=dark] .colab-df-convert:hover {\n",
              "      background-color: #434B5C;\n",
              "      box-shadow: 0px 1px 3px 1px rgba(0, 0, 0, 0.15);\n",
              "      filter: drop-shadow(0px 1px 2px rgba(0, 0, 0, 0.3));\n",
              "      fill: #FFFFFF;\n",
              "    }\n",
              "  </style>\n",
              "\n",
              "      <script>\n",
              "        const buttonEl =\n",
              "          document.querySelector('#df-5c21781c-9171-4f1c-b15d-409f34da443f button.colab-df-convert');\n",
              "        buttonEl.style.display =\n",
              "          google.colab.kernel.accessAllowed ? 'block' : 'none';\n",
              "\n",
              "        async function convertToInteractive(key) {\n",
              "          const element = document.querySelector('#df-5c21781c-9171-4f1c-b15d-409f34da443f');\n",
              "          const dataTable =\n",
              "            await google.colab.kernel.invokeFunction('convertToInteractive',\n",
              "                                                     [key], {});\n",
              "          if (!dataTable) return;\n",
              "\n",
              "          const docLinkHtml = 'Like what you see? Visit the ' +\n",
              "            '<a target=\"_blank\" href=https://colab.research.google.com/notebooks/data_table.ipynb>data table notebook</a>'\n",
              "            + ' to learn more about interactive tables.';\n",
              "          element.innerHTML = '';\n",
              "          dataTable['output_type'] = 'display_data';\n",
              "          await google.colab.output.renderOutput(dataTable, element);\n",
              "          const docLink = document.createElement('div');\n",
              "          docLink.innerHTML = docLinkHtml;\n",
              "          element.appendChild(docLink);\n",
              "        }\n",
              "      </script>\n",
              "    </div>\n",
              "  </div>\n",
              "  "
            ]
          },
          "metadata": {},
          "execution_count": 12
        }
      ]
    },
    {
      "cell_type": "markdown",
      "source": [
        "entendemos como se describe la variable monto de txs para entender sus caracteristicasy distribucion"
      ],
      "metadata": {
        "id": "dW1hCIQJimOm"
      }
    },
    {
      "cell_type": "code",
      "source": [
        "# verificamos la cantida de null en el data frame\n",
        "datosmod.isnull().sum()"
      ],
      "metadata": {
        "colab": {
          "base_uri": "https://localhost:8080/"
        },
        "id": "ZDb6JXp3Fg2G",
        "outputId": "bba4e6a2-1e78-4423-b1aa-f7d147563964"
      },
      "execution_count": 13,
      "outputs": [
        {
          "output_type": "execute_result",
          "data": {
            "text/plain": [
              "merchant_id           0\n",
              "_id                   0\n",
              "subsidiary            0\n",
              "transaction_date      0\n",
              "account_number        0\n",
              "user_id               0\n",
              "transaction_amount    0\n",
              "transaction_type      0\n",
              "dtype: int64"
            ]
          },
          "metadata": {},
          "execution_count": 13
        }
      ]
    },
    {
      "cell_type": "markdown",
      "source": [
        "buscmos cuantos datos faltantes existen y validamos que no se debe realizar un proceso de limpiado ya que no cuenta con estos datos."
      ],
      "metadata": {
        "id": "Dy_IkMuAiyPS"
      }
    },
    {
      "cell_type": "code",
      "source": [
        "#variables categoricas"
      ],
      "metadata": {
        "id": "hJVXT2pzPyaZ"
      },
      "execution_count": 27,
      "outputs": []
    },
    {
      "cell_type": "code",
      "source": [
        "datosmod['merchant_id'].describe()"
      ],
      "metadata": {
        "colab": {
          "base_uri": "https://localhost:8080/"
        },
        "id": "PWPMeY8XP2Yn",
        "outputId": "6221696d-1b2f-4943-c911-29d4569e3898"
      },
      "execution_count": 29,
      "outputs": [
        {
          "output_type": "execute_result",
          "data": {
            "text/plain": [
              "count                             21517522\n",
              "unique                                   3\n",
              "top       817d18cd3c31e40e9bff0566baae7758\n",
              "freq                              14534400\n",
              "Name: merchant_id, dtype: object"
            ]
          },
          "metadata": {},
          "execution_count": 29
        }
      ]
    },
    {
      "cell_type": "code",
      "source": [
        "entendemos merchant id "
      ],
      "metadata": {
        "id": "yGKEkozLi7OK"
      },
      "execution_count": null,
      "outputs": []
    },
    {
      "cell_type": "code",
      "source": [
        "datosmod['merchant_id'].hist()"
      ],
      "metadata": {
        "colab": {
          "base_uri": "https://localhost:8080/",
          "height": 294
        },
        "id": "ZC9wbTJzP8ie",
        "outputId": "d4677178-6b50-48eb-96aa-2921f2f6195e"
      },
      "execution_count": 30,
      "outputs": [
        {
          "output_type": "execute_result",
          "data": {
            "text/plain": [
              "<matplotlib.axes._subplots.AxesSubplot at 0x7f6de454a460>"
            ]
          },
          "metadata": {},
          "execution_count": 30
        },
        {
          "output_type": "display_data",
          "data": {
            "text/plain": [
              "<Figure size 432x288 with 1 Axes>"
            ],
            "image/png": "[encoded data removed]"
          },
          "metadata": {
            "needs_background": "light"
          }
        }
      ]
    },
    {
      "cell_type": "code",
      "source": [
        "datosmod['subsidiary'].describe()"
      ],
      "metadata": {
        "colab": {
          "base_uri": "https://localhost:8080/"
        },
        "id": "X3aQhQvMP-4g",
        "outputId": "01e43c23-1fa0-4748-ec3f-0049c80dd9b3"
      },
      "execution_count": 31,
      "outputs": [
        {
          "output_type": "execute_result",
          "data": {
            "text/plain": [
              "count                             21517522\n",
              "unique                               16870\n",
              "top       f54e0b6b32831a6307361ed959903e76\n",
              "freq                                713106\n",
              "Name: subsidiary, dtype: object"
            ]
          },
          "metadata": {},
          "execution_count": 31
        }
      ]
    },
    {
      "cell_type": "code",
      "source": [
        "datosmod['account_number'].describe()"
      ],
      "metadata": {
        "colab": {
          "base_uri": "https://localhost:8080/"
        },
        "id": "h6WZ_GefQBGf",
        "outputId": "a27f4d7a-b862-4f3b-bbaf-bc74c22ee87f"
      },
      "execution_count": 32,
      "outputs": [
        {
          "output_type": "execute_result",
          "data": {
            "text/plain": [
              "count                             21517522\n",
              "unique                             3102014\n",
              "top       3094e023b7a40245397e116bddbe45e8\n",
              "freq                                  2237\n",
              "Name: account_number, dtype: object"
            ]
          },
          "metadata": {},
          "execution_count": 32
        }
      ]
    },
    {
      "cell_type": "code",
      "source": [
        "datosmod['transaction_type'].describe()"
      ],
      "metadata": {
        "colab": {
          "base_uri": "https://localhost:8080/"
        },
        "id": "4Rn0JJAsQD7A",
        "outputId": "f6ae8e01-26fa-4c60-e3b2-d3a7bb1dd3a0"
      },
      "execution_count": 33,
      "outputs": [
        {
          "output_type": "execute_result",
          "data": {
            "text/plain": [
              "count     21517522\n",
              "unique           2\n",
              "top         DEBITO\n",
              "freq      17185020\n",
              "Name: transaction_type, dtype: object"
            ]
          },
          "metadata": {},
          "execution_count": 33
        }
      ]
    },
    {
      "cell_type": "code",
      "source": [
        "datosmod['transaction_type'].hist()"
      ],
      "metadata": {
        "colab": {
          "base_uri": "https://localhost:8080/",
          "height": 294
        },
        "id": "hcA06ZARQFAS",
        "outputId": "036fccfa-0557-4a4a-9a46-6b763297d71b"
      },
      "execution_count": 34,
      "outputs": [
        {
          "output_type": "execute_result",
          "data": {
            "text/plain": [
              "<matplotlib.axes._subplots.AxesSubplot at 0x7f6de64a60d0>"
            ]
          },
          "metadata": {},
          "execution_count": 34
        },
        {
          "output_type": "display_data",
          "data": {
            "text/plain": [
              "<Figure size 432x288 with 1 Axes>"
            ],
            "image/png": "[encoded data removed]"
          },
          "metadata": {
            "needs_background": "light"
          }
        }
      ]
    },
    {
      "cell_type": "markdown",
      "source": [
        "entendemos la transaciconalidad que su ripo mas usado es el debito"
      ],
      "metadata": {
        "id": "dFSRjRsyjJbP"
      }
    },
    {
      "cell_type": "code",
      "source": [
        "# histograma de transacciones\n",
        "datosmod['transaction_amount'].hist()\n",
        "plt.title('Hist_txs')\n",
        "plt.show()"
      ],
      "metadata": {
        "id": "9-bmu0pb9eVD",
        "colab": {
          "base_uri": "https://localhost:8080/",
          "height": 282
        },
        "outputId": "1e6ccb16-6c36-413a-c89c-0585dbbbc48f"
      },
      "execution_count": 14,
      "outputs": [
        {
          "output_type": "display_data",
          "data": {
            "text/plain": [
              "<Figure size 432x288 with 1 Axes>"
            ],
            "image/png": "[encoded data removed]"
          },
          "metadata": {
            "needs_background": "light"
          }
        }
      ]
    },
    {
      "cell_type": "markdown",
      "source": [
        "vemos la distribucion del monto de las txs"
      ],
      "metadata": {
        "id": "uMmpQ0RUjQeJ"
      }
    },
    {
      "cell_type": "code",
      "source": [
        "#monto diario\n",
        "montodia=datosmod.groupby([pd.Grouper(key='transaction_date',freq='D')]).agg({'transaction_amount':'sum'})"
      ],
      "metadata": {
        "id": "BkzkVm-FAikv"
      },
      "execution_count": 15,
      "outputs": []
    },
    {
      "cell_type": "code",
      "source": [
        "montodia.head()"
      ],
      "metadata": {
        "colab": {
          "base_uri": "https://localhost:8080/",
          "height": 238
        },
        "id": "aIDtwB6iLTV3",
        "outputId": "1a595597-51e2-4ac6-e6a8-6c3c9b2f7ab2"
      },
      "execution_count": 16,
      "outputs": [
        {
          "output_type": "execute_result",
          "data": {
            "text/plain": [
              "                  transaction_amount\n",
              "transaction_date                    \n",
              "2021-01-01              1478946.3607\n",
              "2021-01-02              5023026.6916\n",
              "2021-01-03              3990751.7760\n",
              "2021-01-04             10001905.2129\n",
              "2021-01-05              9488283.7154"
            ],
            "text/html": [
              "\n",
              "  <div id=\"df-3ca147e6-e2f4-4a7a-9279-1e21737ab266\">\n",
              "    <div class=\"colab-df-container\">\n",
              "      <div>\n",
              "<style scoped>\n",
              "    .dataframe tbody tr th:only-of-type {\n",
              "        vertical-align: middle;\n",
              "    }\n",
              "\n",
              "    .dataframe tbody tr th {\n",
              "        vertical-align: top;\n",
              "    }\n",
              "\n",
              "    .dataframe thead th {\n",
              "        text-align: right;\n",
              "    }\n",
              "</style>\n",
              "<table border=\"1\" class=\"dataframe\">\n",
              "  <thead>\n",
              "    <tr style=\"text-align: right;\">\n",
              "      <th></th>\n",
              "      <th>transaction_amount</th>\n",
              "    </tr>\n",
              "    <tr>\n",
              "      <th>transaction_date</th>\n",
              "      <th></th>\n",
              "    </tr>\n",
              "  </thead>\n",
              "  <tbody>\n",
              "    <tr>\n",
              "      <th>2021-01-01</th>\n",
              "      <td>1478946.3607</td>\n",
              "    </tr>\n",
              "    <tr>\n",
              "      <th>2021-01-02</th>\n",
              "      <td>5023026.6916</td>\n",
              "    </tr>\n",
              "    <tr>\n",
              "      <th>2021-01-03</th>\n",
              "      <td>3990751.7760</td>\n",
              "    </tr>\n",
              "    <tr>\n",
              "      <th>2021-01-04</th>\n",
              "      <td>10001905.2129</td>\n",
              "    </tr>\n",
              "    <tr>\n",
              "      <th>2021-01-05</th>\n",
              "      <td>9488283.7154</td>\n",
              "    </tr>\n",
              "  </tbody>\n",
              "</table>\n",
              "</div>\n",
              "      <button class=\"colab-df-convert\" onclick=\"convertToInteractive('df-3ca147e6-e2f4-4a7a-9279-1e21737ab266')\"\n",
              "              title=\"Convert this dataframe to an interactive table.\"\n",
              "              style=\"display:none;\">\n",
              "        \n",
              "  <svg xmlns=\"http://www.w3.org/2000/svg\" height=\"24px\"viewBox=\"0 0 24 24\"\n",
              "       width=\"24px\">\n",
              "    <path d=\"M0 0h24v24H0V0z\" fill=\"none\"/>\n",
              "    <path d=\"M18.56 5.44l.94 2.06.94-2.06 2.06-.94-2.06-.94-.94-2.06-.94 2.06-2.06.94zm-11 1L8.5 8.5l.94-2.06 2.06-.94-2.06-.94L8.5 2.5l-.94 2.06-2.06.94zm10 10l.94 2.06.94-2.06 2.06-.94-2.06-.94-.94-2.06-.94 2.06-2.06.94z\"/><path d=\"M17.41 7.96l-1.37-1.37c-.4-.4-.92-.59-1.43-.59-.52 0-1.04.2-1.43.59L10.3 9.45l-7.72 7.72c-.78.78-.78 2.05 0 2.83L4 21.41c.39.39.9.59 1.41.59.51 0 1.02-.2 1.41-.59l7.78-7.78 2.81-2.81c.8-.78.8-2.07 0-2.86zM5.41 20L4 18.59l7.72-7.72 1.47 1.35L5.41 20z\"/>\n",
              "  </svg>\n",
              "      </button>\n",
              "      \n",
              "  <style>\n",
              "    .colab-df-container {\n",
              "      display:flex;\n",
              "      flex-wrap:wrap;\n",
              "      gap: 12px;\n",
              "    }\n",
              "\n",
              "    .colab-df-convert {\n",
              "      background-color: #E8F0FE;\n",
              "      border: none;\n",
              "      border-radius: 50%;\n",
              "      cursor: pointer;\n",
              "      display: none;\n",
              "      fill: #1967D2;\n",
              "      height: 32px;\n",
              "      padding: 0 0 0 0;\n",
              "      width: 32px;\n",
              "    }\n",
              "\n",
              "    .colab-df-convert:hover {\n",
              "      background-color: #E2EBFA;\n",
              "      box-shadow: 0px 1px 2px rgba(60, 64, 67, 0.3), 0px 1px 3px 1px rgba(60, 64, 67, 0.15);\n",
              "      fill: #174EA6;\n",
              "    }\n",
              "\n",
              "    [theme=dark] .colab-df-convert {\n",
              "      background-color: #3B4455;\n",
              "      fill: #D2E3FC;\n",
              "    }\n",
              "\n",
              "    [theme=dark] .colab-df-convert:hover {\n",
              "      background-color: #434B5C;\n",
              "      box-shadow: 0px 1px 3px 1px rgba(0, 0, 0, 0.15);\n",
              "      filter: drop-shadow(0px 1px 2px rgba(0, 0, 0, 0.3));\n",
              "      fill: #FFFFFF;\n",
              "    }\n",
              "  </style>\n",
              "\n",
              "      <script>\n",
              "        const buttonEl =\n",
              "          document.querySelector('#df-3ca147e6-e2f4-4a7a-9279-1e21737ab266 button.colab-df-convert');\n",
              "        buttonEl.style.display =\n",
              "          google.colab.kernel.accessAllowed ? 'block' : 'none';\n",
              "\n",
              "        async function convertToInteractive(key) {\n",
              "          const element = document.querySelector('#df-3ca147e6-e2f4-4a7a-9279-1e21737ab266');\n",
              "          const dataTable =\n",
              "            await google.colab.kernel.invokeFunction('convertToInteractive',\n",
              "                                                     [key], {});\n",
              "          if (!dataTable) return;\n",
              "\n",
              "          const docLinkHtml = 'Like what you see? Visit the ' +\n",
              "            '<a target=\"_blank\" href=https://colab.research.google.com/notebooks/data_table.ipynb>data table notebook</a>'\n",
              "            + ' to learn more about interactive tables.';\n",
              "          element.innerHTML = '';\n",
              "          dataTable['output_type'] = 'display_data';\n",
              "          await google.colab.output.renderOutput(dataTable, element);\n",
              "          const docLink = document.createElement('div');\n",
              "          docLink.innerHTML = docLinkHtml;\n",
              "          element.appendChild(docLink);\n",
              "        }\n",
              "      </script>\n",
              "    </div>\n",
              "  </div>\n",
              "  "
            ]
          },
          "metadata": {},
          "execution_count": 16
        }
      ]
    },
    {
      "cell_type": "markdown",
      "source": [
        "exploramos la variable por medio del monto diario"
      ],
      "metadata": {
        "id": "KLQLm_2HjZ0-"
      }
    },
    {
      "cell_type": "code",
      "source": [
        "montodia.plot.line(y='transaction_amount',figsize=(20,6),lw=2)"
      ],
      "metadata": {
        "colab": {
          "base_uri": "https://localhost:8080/",
          "height": 339
        },
        "id": "b3mIfxQ6LdEa",
        "outputId": "0ae542db-43af-426c-84db-18637e7edfe2"
      },
      "execution_count": 17,
      "outputs": [
        {
          "output_type": "execute_result",
          "data": {
            "text/plain": [
              "<matplotlib.axes._subplots.AxesSubplot at 0x7f6de5fb07f0>"
            ]
          },
          "metadata": {},
          "execution_count": 17
        },
        {
          "output_type": "display_data",
          "data": {
            "text/plain": [
              "<Figure size 1440x432 with 1 Axes>"
            ],
            "image/png": "[encoded data removed]"
          },
          "metadata": {
            "needs_background": "light"
          }
        }
      ]
    },
    {
      "cell_type": "code",
      "source": [
        "#cant dia\n",
        "cantdia=datosmod.groupby([pd.Grouper(key='transaction_date',freq='D')]).agg({'_id':'count'}).rename(columns={'_id':'cantidad'})\n",
        "cantdia.head()"
      ],
      "metadata": {
        "colab": {
          "base_uri": "https://localhost:8080/",
          "height": 238
        },
        "id": "qDaD9wwBLzWz",
        "outputId": "d30d9783-fd12-4e02-b4b0-a9b823cbd514"
      },
      "execution_count": 18,
      "outputs": [
        {
          "output_type": "execute_result",
          "data": {
            "text/plain": [
              "                  cantidad\n",
              "transaction_date          \n",
              "2021-01-01           18353\n",
              "2021-01-02           40252\n",
              "2021-01-03           36617\n",
              "2021-01-04           68324\n",
              "2021-01-05           68470"
            ],
            "text/html": [
              "\n",
              "  <div id=\"df-eb6238b8-bfa2-49fe-a5bd-efaa70eef722\">\n",
              "    <div class=\"colab-df-container\">\n",
              "      <div>\n",
              "<style scoped>\n",
              "    .dataframe tbody tr th:only-of-type {\n",
              "        vertical-align: middle;\n",
              "    }\n",
              "\n",
              "    .dataframe tbody tr th {\n",
              "        vertical-align: top;\n",
              "    }\n",
              "\n",
              "    .dataframe thead th {\n",
              "        text-align: right;\n",
              "    }\n",
              "</style>\n",
              "<table border=\"1\" class=\"dataframe\">\n",
              "  <thead>\n",
              "    <tr style=\"text-align: right;\">\n",
              "      <th></th>\n",
              "      <th>cantidad</th>\n",
              "    </tr>\n",
              "    <tr>\n",
              "      <th>transaction_date</th>\n",
              "      <th></th>\n",
              "    </tr>\n",
              "  </thead>\n",
              "  <tbody>\n",
              "    <tr>\n",
              "      <th>2021-01-01</th>\n",
              "      <td>18353</td>\n",
              "    </tr>\n",
              "    <tr>\n",
              "      <th>2021-01-02</th>\n",
              "      <td>40252</td>\n",
              "    </tr>\n",
              "    <tr>\n",
              "      <th>2021-01-03</th>\n",
              "      <td>36617</td>\n",
              "    </tr>\n",
              "    <tr>\n",
              "      <th>2021-01-04</th>\n",
              "      <td>68324</td>\n",
              "    </tr>\n",
              "    <tr>\n",
              "      <th>2021-01-05</th>\n",
              "      <td>68470</td>\n",
              "    </tr>\n",
              "  </tbody>\n",
              "</table>\n",
              "</div>\n",
              "      <button class=\"colab-df-convert\" onclick=\"convertToInteractive('df-eb6238b8-bfa2-49fe-a5bd-efaa70eef722')\"\n",
              "              title=\"Convert this dataframe to an interactive table.\"\n",
              "              style=\"display:none;\">\n",
              "        \n",
              "  <svg xmlns=\"http://www.w3.org/2000/svg\" height=\"24px\"viewBox=\"0 0 24 24\"\n",
              "       width=\"24px\">\n",
              "    <path d=\"M0 0h24v24H0V0z\" fill=\"none\"/>\n",
              "    <path d=\"M18.56 5.44l.94 2.06.94-2.06 2.06-.94-2.06-.94-.94-2.06-.94 2.06-2.06.94zm-11 1L8.5 8.5l.94-2.06 2.06-.94-2.06-.94L8.5 2.5l-.94 2.06-2.06.94zm10 10l.94 2.06.94-2.06 2.06-.94-2.06-.94-.94-2.06-.94 2.06-2.06.94z\"/><path d=\"M17.41 7.96l-1.37-1.37c-.4-.4-.92-.59-1.43-.59-.52 0-1.04.2-1.43.59L10.3 9.45l-7.72 7.72c-.78.78-.78 2.05 0 2.83L4 21.41c.39.39.9.59 1.41.59.51 0 1.02-.2 1.41-.59l7.78-7.78 2.81-2.81c.8-.78.8-2.07 0-2.86zM5.41 20L4 18.59l7.72-7.72 1.47 1.35L5.41 20z\"/>\n",
              "  </svg>\n",
              "      </button>\n",
              "      \n",
              "  <style>\n",
              "    .colab-df-container {\n",
              "      display:flex;\n",
              "      flex-wrap:wrap;\n",
              "      gap: 12px;\n",
              "    }\n",
              "\n",
              "    .colab-df-convert {\n",
              "      background-color: #E8F0FE;\n",
              "      border: none;\n",
              "      border-radius: 50%;\n",
              "      cursor: pointer;\n",
              "      display: none;\n",
              "      fill: #1967D2;\n",
              "      height: 32px;\n",
              "      padding: 0 0 0 0;\n",
              "      width: 32px;\n",
              "    }\n",
              "\n",
              "    .colab-df-convert:hover {\n",
              "      background-color: #E2EBFA;\n",
              "      box-shadow: 0px 1px 2px rgba(60, 64, 67, 0.3), 0px 1px 3px 1px rgba(60, 64, 67, 0.15);\n",
              "      fill: #174EA6;\n",
              "    }\n",
              "\n",
              "    [theme=dark] .colab-df-convert {\n",
              "      background-color: #3B4455;\n",
              "      fill: #D2E3FC;\n",
              "    }\n",
              "\n",
              "    [theme=dark] .colab-df-convert:hover {\n",
              "      background-color: #434B5C;\n",
              "      box-shadow: 0px 1px 3px 1px rgba(0, 0, 0, 0.15);\n",
              "      filter: drop-shadow(0px 1px 2px rgba(0, 0, 0, 0.3));\n",
              "      fill: #FFFFFF;\n",
              "    }\n",
              "  </style>\n",
              "\n",
              "      <script>\n",
              "        const buttonEl =\n",
              "          document.querySelector('#df-eb6238b8-bfa2-49fe-a5bd-efaa70eef722 button.colab-df-convert');\n",
              "        buttonEl.style.display =\n",
              "          google.colab.kernel.accessAllowed ? 'block' : 'none';\n",
              "\n",
              "        async function convertToInteractive(key) {\n",
              "          const element = document.querySelector('#df-eb6238b8-bfa2-49fe-a5bd-efaa70eef722');\n",
              "          const dataTable =\n",
              "            await google.colab.kernel.invokeFunction('convertToInteractive',\n",
              "                                                     [key], {});\n",
              "          if (!dataTable) return;\n",
              "\n",
              "          const docLinkHtml = 'Like what you see? Visit the ' +\n",
              "            '<a target=\"_blank\" href=https://colab.research.google.com/notebooks/data_table.ipynb>data table notebook</a>'\n",
              "            + ' to learn more about interactive tables.';\n",
              "          element.innerHTML = '';\n",
              "          dataTable['output_type'] = 'display_data';\n",
              "          await google.colab.output.renderOutput(dataTable, element);\n",
              "          const docLink = document.createElement('div');\n",
              "          docLink.innerHTML = docLinkHtml;\n",
              "          element.appendChild(docLink);\n",
              "        }\n",
              "      </script>\n",
              "    </div>\n",
              "  </div>\n",
              "  "
            ]
          },
          "metadata": {},
          "execution_count": 18
        }
      ]
    },
    {
      "cell_type": "code",
      "source": [
        "cantdia.plot.line(y='cantidad',figsize=(20,6),lw=2)"
      ],
      "metadata": {
        "colab": {
          "base_uri": "https://localhost:8080/",
          "height": 325
        },
        "id": "aGUjbiiKMCMA",
        "outputId": "da8321c0-ef95-432f-dad4-a1df07adef71"
      },
      "execution_count": 19,
      "outputs": [
        {
          "output_type": "execute_result",
          "data": {
            "text/plain": [
              "<matplotlib.axes._subplots.AxesSubplot at 0x7f6de5e622b0>"
            ]
          },
          "metadata": {},
          "execution_count": 19
        },
        {
          "output_type": "display_data",
          "data": {
            "text/plain": [
              "<Figure size 1440x432 with 1 Axes>"
            ],
            "image/png": "[encoded data removed]"
          },
          "metadata": {
            "needs_background": "light"
          }
        }
      ]
    },
    {
      "cell_type": "markdown",
      "source": [
        "comportamiento por dia"
      ],
      "metadata": {
        "id": "fllxU3jLjj2O"
      }
    },
    {
      "cell_type": "code",
      "source": [
        "# cant semanal\n",
        "cantsem=cantdia.copy()"
      ],
      "metadata": {
        "id": "e2nZQ89_Miw4"
      },
      "execution_count": 20,
      "outputs": []
    },
    {
      "cell_type": "code",
      "source": [
        "cantsem['dia_semana'] = cantsem.index.day_name(locale = '')"
      ],
      "metadata": {
        "id": "Hh6Ai6KaMvGq"
      },
      "execution_count": 21,
      "outputs": []
    },
    {
      "cell_type": "code",
      "source": [
        "cantsem.sort_index(ascending = True)"
      ],
      "metadata": {
        "colab": {
          "base_uri": "https://localhost:8080/",
          "height": 455
        },
        "id": "0pLi6_A5M0Gi",
        "outputId": "36a4274c-4f70-4b16-c51e-1af6df562c70"
      },
      "execution_count": 22,
      "outputs": [
        {
          "output_type": "execute_result",
          "data": {
            "text/plain": [
              "                  cantidad dia_semana\n",
              "transaction_date                     \n",
              "2021-01-01           18353     Friday\n",
              "2021-01-02           40252   Saturday\n",
              "2021-01-03           36617     Sunday\n",
              "2021-01-04           68324     Monday\n",
              "2021-01-05           68470    Tuesday\n",
              "...                    ...        ...\n",
              "2021-11-26           89187     Friday\n",
              "2021-11-27           82415   Saturday\n",
              "2021-11-28           58853     Sunday\n",
              "2021-11-29           87282     Monday\n",
              "2021-11-30           73939    Tuesday\n",
              "\n",
              "[334 rows x 2 columns]"
            ],
            "text/html": [
              "\n",
              "  <div id=\"df-8210a44e-290f-4fa2-8f23-d029775fa665\">\n",
              "    <div class=\"colab-df-container\">\n",
              "      <div>\n",
              "<style scoped>\n",
              "    .dataframe tbody tr th:only-of-type {\n",
              "        vertical-align: middle;\n",
              "    }\n",
              "\n",
              "    .dataframe tbody tr th {\n",
              "        vertical-align: top;\n",
              "    }\n",
              "\n",
              "    .dataframe thead th {\n",
              "        text-align: right;\n",
              "    }\n",
              "</style>\n",
              "<table border=\"1\" class=\"dataframe\">\n",
              "  <thead>\n",
              "    <tr style=\"text-align: right;\">\n",
              "      <th></th>\n",
              "      <th>cantidad</th>\n",
              "      <th>dia_semana</th>\n",
              "    </tr>\n",
              "    <tr>\n",
              "      <th>transaction_date</th>\n",
              "      <th></th>\n",
              "      <th></th>\n",
              "    </tr>\n",
              "  </thead>\n",
              "  <tbody>\n",
              "    <tr>\n",
              "      <th>2021-01-01</th>\n",
              "      <td>18353</td>\n",
              "      <td>Friday</td>\n",
              "    </tr>\n",
              "    <tr>\n",
              "      <th>2021-01-02</th>\n",
              "      <td>40252</td>\n",
              "      <td>Saturday</td>\n",
              "    </tr>\n",
              "    <tr>\n",
              "      <th>2021-01-03</th>\n",
              "      <td>36617</td>\n",
              "      <td>Sunday</td>\n",
              "    </tr>\n",
              "    <tr>\n",
              "      <th>2021-01-04</th>\n",
              "      <td>68324</td>\n",
              "      <td>Monday</td>\n",
              "    </tr>\n",
              "    <tr>\n",
              "      <th>2021-01-05</th>\n",
              "      <td>68470</td>\n",
              "      <td>Tuesday</td>\n",
              "    </tr>\n",
              "    <tr>\n",
              "      <th>...</th>\n",
              "      <td>...</td>\n",
              "      <td>...</td>\n",
              "    </tr>\n",
              "    <tr>\n",
              "      <th>2021-11-26</th>\n",
              "      <td>89187</td>\n",
              "      <td>Friday</td>\n",
              "    </tr>\n",
              "    <tr>\n",
              "      <th>2021-11-27</th>\n",
              "      <td>82415</td>\n",
              "      <td>Saturday</td>\n",
              "    </tr>\n",
              "    <tr>\n",
              "      <th>2021-11-28</th>\n",
              "      <td>58853</td>\n",
              "      <td>Sunday</td>\n",
              "    </tr>\n",
              "    <tr>\n",
              "      <th>2021-11-29</th>\n",
              "      <td>87282</td>\n",
              "      <td>Monday</td>\n",
              "    </tr>\n",
              "    <tr>\n",
              "      <th>2021-11-30</th>\n",
              "      <td>73939</td>\n",
              "      <td>Tuesday</td>\n",
              "    </tr>\n",
              "  </tbody>\n",
              "</table>\n",
              "<p>334 rows × 2 columns</p>\n",
              "</div>\n",
              "      <button class=\"colab-df-convert\" onclick=\"convertToInteractive('df-8210a44e-290f-4fa2-8f23-d029775fa665')\"\n",
              "              title=\"Convert this dataframe to an interactive table.\"\n",
              "              style=\"display:none;\">\n",
              "        \n",
              "  <svg xmlns=\"http://www.w3.org/2000/svg\" height=\"24px\"viewBox=\"0 0 24 24\"\n",
              "       width=\"24px\">\n",
              "    <path d=\"M0 0h24v24H0V0z\" fill=\"none\"/>\n",
              "    <path d=\"M18.56 5.44l.94 2.06.94-2.06 2.06-.94-2.06-.94-.94-2.06-.94 2.06-2.06.94zm-11 1L8.5 8.5l.94-2.06 2.06-.94-2.06-.94L8.5 2.5l-.94 2.06-2.06.94zm10 10l.94 2.06.94-2.06 2.06-.94-2.06-.94-.94-2.06-.94 2.06-2.06.94z\"/><path d=\"M17.41 7.96l-1.37-1.37c-.4-.4-.92-.59-1.43-.59-.52 0-1.04.2-1.43.59L10.3 9.45l-7.72 7.72c-.78.78-.78 2.05 0 2.83L4 21.41c.39.39.9.59 1.41.59.51 0 1.02-.2 1.41-.59l7.78-7.78 2.81-2.81c.8-.78.8-2.07 0-2.86zM5.41 20L4 18.59l7.72-7.72 1.47 1.35L5.41 20z\"/>\n",
              "  </svg>\n",
              "      </button>\n",
              "      \n",
              "  <style>\n",
              "    .colab-df-container {\n",
              "      display:flex;\n",
              "      flex-wrap:wrap;\n",
              "      gap: 12px;\n",
              "    }\n",
              "\n",
              "    .colab-df-convert {\n",
              "      background-color: #E8F0FE;\n",
              "      border: none;\n",
              "      border-radius: 50%;\n",
              "      cursor: pointer;\n",
              "      display: none;\n",
              "      fill: #1967D2;\n",
              "      height: 32px;\n",
              "      padding: 0 0 0 0;\n",
              "      width: 32px;\n",
              "    }\n",
              "\n",
              "    .colab-df-convert:hover {\n",
              "      background-color: #E2EBFA;\n",
              "      box-shadow: 0px 1px 2px rgba(60, 64, 67, 0.3), 0px 1px 3px 1px rgba(60, 64, 67, 0.15);\n",
              "      fill: #174EA6;\n",
              "    }\n",
              "\n",
              "    [theme=dark] .colab-df-convert {\n",
              "      background-color: #3B4455;\n",
              "      fill: #D2E3FC;\n",
              "    }\n",
              "\n",
              "    [theme=dark] .colab-df-convert:hover {\n",
              "      background-color: #434B5C;\n",
              "      box-shadow: 0px 1px 3px 1px rgba(0, 0, 0, 0.15);\n",
              "      filter: drop-shadow(0px 1px 2px rgba(0, 0, 0, 0.3));\n",
              "      fill: #FFFFFF;\n",
              "    }\n",
              "  </style>\n",
              "\n",
              "      <script>\n",
              "        const buttonEl =\n",
              "          document.querySelector('#df-8210a44e-290f-4fa2-8f23-d029775fa665 button.colab-df-convert');\n",
              "        buttonEl.style.display =\n",
              "          google.colab.kernel.accessAllowed ? 'block' : 'none';\n",
              "\n",
              "        async function convertToInteractive(key) {\n",
              "          const element = document.querySelector('#df-8210a44e-290f-4fa2-8f23-d029775fa665');\n",
              "          const dataTable =\n",
              "            await google.colab.kernel.invokeFunction('convertToInteractive',\n",
              "                                                     [key], {});\n",
              "          if (!dataTable) return;\n",
              "\n",
              "          const docLinkHtml = 'Like what you see? Visit the ' +\n",
              "            '<a target=\"_blank\" href=https://colab.research.google.com/notebooks/data_table.ipynb>data table notebook</a>'\n",
              "            + ' to learn more about interactive tables.';\n",
              "          element.innerHTML = '';\n",
              "          dataTable['output_type'] = 'display_data';\n",
              "          await google.colab.output.renderOutput(dataTable, element);\n",
              "          const docLink = document.createElement('div');\n",
              "          docLink.innerHTML = docLinkHtml;\n",
              "          element.appendChild(docLink);\n",
              "        }\n",
              "      </script>\n",
              "    </div>\n",
              "  </div>\n",
              "  "
            ]
          },
          "metadata": {},
          "execution_count": 22
        }
      ]
    },
    {
      "cell_type": "code",
      "source": [
        "cantsem=cantsem.groupby('dia_semana').agg({'cantidad':'sum'})\n",
        "cantsem"
      ],
      "metadata": {
        "colab": {
          "base_uri": "https://localhost:8080/",
          "height": 300
        },
        "id": "4JrmGclDNahe",
        "outputId": "1cbe56f0-2014-436e-9976-ccb45ede1fd2"
      },
      "execution_count": 23,
      "outputs": [
        {
          "output_type": "execute_result",
          "data": {
            "text/plain": [
              "            cantidad\n",
              "dia_semana          \n",
              "Friday       3313184\n",
              "Monday       3105859\n",
              "Saturday     3264741\n",
              "Sunday       2012458\n",
              "Thursday     3203593\n",
              "Tuesday      3360705\n",
              "Wednesday    3256982"
            ],
            "text/html": [
              "\n",
              "  <div id=\"df-a54871c3-4c6d-4b11-84a9-047307e3beb4\">\n",
              "    <div class=\"colab-df-container\">\n",
              "      <div>\n",
              "<style scoped>\n",
              "    .dataframe tbody tr th:only-of-type {\n",
              "        vertical-align: middle;\n",
              "    }\n",
              "\n",
              "    .dataframe tbody tr th {\n",
              "        vertical-align: top;\n",
              "    }\n",
              "\n",
              "    .dataframe thead th {\n",
              "        text-align: right;\n",
              "    }\n",
              "</style>\n",
              "<table border=\"1\" class=\"dataframe\">\n",
              "  <thead>\n",
              "    <tr style=\"text-align: right;\">\n",
              "      <th></th>\n",
              "      <th>cantidad</th>\n",
              "    </tr>\n",
              "    <tr>\n",
              "      <th>dia_semana</th>\n",
              "      <th></th>\n",
              "    </tr>\n",
              "  </thead>\n",
              "  <tbody>\n",
              "    <tr>\n",
              "      <th>Friday</th>\n",
              "      <td>3313184</td>\n",
              "    </tr>\n",
              "    <tr>\n",
              "      <th>Monday</th>\n",
              "      <td>3105859</td>\n",
              "    </tr>\n",
              "    <tr>\n",
              "      <th>Saturday</th>\n",
              "      <td>3264741</td>\n",
              "    </tr>\n",
              "    <tr>\n",
              "      <th>Sunday</th>\n",
              "      <td>2012458</td>\n",
              "    </tr>\n",
              "    <tr>\n",
              "      <th>Thursday</th>\n",
              "      <td>3203593</td>\n",
              "    </tr>\n",
              "    <tr>\n",
              "      <th>Tuesday</th>\n",
              "      <td>3360705</td>\n",
              "    </tr>\n",
              "    <tr>\n",
              "      <th>Wednesday</th>\n",
              "      <td>3256982</td>\n",
              "    </tr>\n",
              "  </tbody>\n",
              "</table>\n",
              "</div>\n",
              "      <button class=\"colab-df-convert\" onclick=\"convertToInteractive('df-a54871c3-4c6d-4b11-84a9-047307e3beb4')\"\n",
              "              title=\"Convert this dataframe to an interactive table.\"\n",
              "              style=\"display:none;\">\n",
              "        \n",
              "  <svg xmlns=\"http://www.w3.org/2000/svg\" height=\"24px\"viewBox=\"0 0 24 24\"\n",
              "       width=\"24px\">\n",
              "    <path d=\"M0 0h24v24H0V0z\" fill=\"none\"/>\n",
              "    <path d=\"M18.56 5.44l.94 2.06.94-2.06 2.06-.94-2.06-.94-.94-2.06-.94 2.06-2.06.94zm-11 1L8.5 8.5l.94-2.06 2.06-.94-2.06-.94L8.5 2.5l-.94 2.06-2.06.94zm10 10l.94 2.06.94-2.06 2.06-.94-2.06-.94-.94-2.06-.94 2.06-2.06.94z\"/><path d=\"M17.41 7.96l-1.37-1.37c-.4-.4-.92-.59-1.43-.59-.52 0-1.04.2-1.43.59L10.3 9.45l-7.72 7.72c-.78.78-.78 2.05 0 2.83L4 21.41c.39.39.9.59 1.41.59.51 0 1.02-.2 1.41-.59l7.78-7.78 2.81-2.81c.8-.78.8-2.07 0-2.86zM5.41 20L4 18.59l7.72-7.72 1.47 1.35L5.41 20z\"/>\n",
              "  </svg>\n",
              "      </button>\n",
              "      \n",
              "  <style>\n",
              "    .colab-df-container {\n",
              "      display:flex;\n",
              "      flex-wrap:wrap;\n",
              "      gap: 12px;\n",
              "    }\n",
              "\n",
              "    .colab-df-convert {\n",
              "      background-color: #E8F0FE;\n",
              "      border: none;\n",
              "      border-radius: 50%;\n",
              "      cursor: pointer;\n",
              "      display: none;\n",
              "      fill: #1967D2;\n",
              "      height: 32px;\n",
              "      padding: 0 0 0 0;\n",
              "      width: 32px;\n",
              "    }\n",
              "\n",
              "    .colab-df-convert:hover {\n",
              "      background-color: #E2EBFA;\n",
              "      box-shadow: 0px 1px 2px rgba(60, 64, 67, 0.3), 0px 1px 3px 1px rgba(60, 64, 67, 0.15);\n",
              "      fill: #174EA6;\n",
              "    }\n",
              "\n",
              "    [theme=dark] .colab-df-convert {\n",
              "      background-color: #3B4455;\n",
              "      fill: #D2E3FC;\n",
              "    }\n",
              "\n",
              "    [theme=dark] .colab-df-convert:hover {\n",
              "      background-color: #434B5C;\n",
              "      box-shadow: 0px 1px 3px 1px rgba(0, 0, 0, 0.15);\n",
              "      filter: drop-shadow(0px 1px 2px rgba(0, 0, 0, 0.3));\n",
              "      fill: #FFFFFF;\n",
              "    }\n",
              "  </style>\n",
              "\n",
              "      <script>\n",
              "        const buttonEl =\n",
              "          document.querySelector('#df-a54871c3-4c6d-4b11-84a9-047307e3beb4 button.colab-df-convert');\n",
              "        buttonEl.style.display =\n",
              "          google.colab.kernel.accessAllowed ? 'block' : 'none';\n",
              "\n",
              "        async function convertToInteractive(key) {\n",
              "          const element = document.querySelector('#df-a54871c3-4c6d-4b11-84a9-047307e3beb4');\n",
              "          const dataTable =\n",
              "            await google.colab.kernel.invokeFunction('convertToInteractive',\n",
              "                                                     [key], {});\n",
              "          if (!dataTable) return;\n",
              "\n",
              "          const docLinkHtml = 'Like what you see? Visit the ' +\n",
              "            '<a target=\"_blank\" href=https://colab.research.google.com/notebooks/data_table.ipynb>data table notebook</a>'\n",
              "            + ' to learn more about interactive tables.';\n",
              "          element.innerHTML = '';\n",
              "          dataTable['output_type'] = 'display_data';\n",
              "          await google.colab.output.renderOutput(dataTable, element);\n",
              "          const docLink = document.createElement('div');\n",
              "          docLink.innerHTML = docLinkHtml;\n",
              "          element.appendChild(docLink);\n",
              "        }\n",
              "      </script>\n",
              "    </div>\n",
              "  </div>\n",
              "  "
            ]
          },
          "metadata": {},
          "execution_count": 23
        }
      ]
    },
    {
      "cell_type": "markdown",
      "source": [
        "verificamos en todo el historico que dia cuenta con mas txs siendo jueves mientras que el dia con menos el domingo"
      ],
      "metadata": {
        "id": "UiM7rFYsjmGQ"
      }
    },
    {
      "cell_type": "code",
      "source": [
        "cantmes=datosmod.groupby([pd.Grouper(key='transaction_date',freq='M')]).agg({'_id':'count'}).rename(columns={'_id':'cant'})"
      ],
      "metadata": {
        "id": "lOqJU967OxVR"
      },
      "execution_count": 24,
      "outputs": []
    },
    {
      "cell_type": "code",
      "source": [
        "cantmes=datosmod.groupby([pd.Grouper(key='transaction_date',freq='M')]).agg({'transaction_amount':'sum'}).rename(columns={'_id':'sum'})"
      ],
      "metadata": {
        "id": "mFVKWL-NO3Qh"
      },
      "execution_count": 25,
      "outputs": []
    },
    {
      "cell_type": "code",
      "source": [
        "cantmes"
      ],
      "metadata": {
        "colab": {
          "base_uri": "https://localhost:8080/",
          "height": 426
        },
        "id": "g0-_WNpAO3e1",
        "outputId": "4b9c7ac8-3d35-4a1d-f617-aa83c5be86e0"
      },
      "execution_count": 26,
      "outputs": [
        {
          "output_type": "execute_result",
          "data": {
            "text/plain": [
              "                  transaction_amount\n",
              "transaction_date                    \n",
              "2021-01-31            232925612.0125\n",
              "2021-02-28            270525960.4631\n",
              "2021-03-31            293005822.7423\n",
              "2021-04-30            272670345.0191\n",
              "2021-05-31            333754403.8141\n",
              "2021-06-30            384039114.5697\n",
              "2021-07-31            423691217.5295\n",
              "2021-08-31            408245543.8070\n",
              "2021-09-30            444879384.8285\n",
              "2021-10-31            503130908.7289\n",
              "2021-11-30            540733431.1214"
            ],
            "text/html": [
              "\n",
              "  <div id=\"df-fdd674b4-945c-492a-ad5b-d12e9e7eaec1\">\n",
              "    <div class=\"colab-df-container\">\n",
              "      <div>\n",
              "<style scoped>\n",
              "    .dataframe tbody tr th:only-of-type {\n",
              "        vertical-align: middle;\n",
              "    }\n",
              "\n",
              "    .dataframe tbody tr th {\n",
              "        vertical-align: top;\n",
              "    }\n",
              "\n",
              "    .dataframe thead th {\n",
              "        text-align: right;\n",
              "    }\n",
              "</style>\n",
              "<table border=\"1\" class=\"dataframe\">\n",
              "  <thead>\n",
              "    <tr style=\"text-align: right;\">\n",
              "      <th></th>\n",
              "      <th>transaction_amount</th>\n",
              "    </tr>\n",
              "    <tr>\n",
              "      <th>transaction_date</th>\n",
              "      <th></th>\n",
              "    </tr>\n",
              "  </thead>\n",
              "  <tbody>\n",
              "    <tr>\n",
              "      <th>2021-01-31</th>\n",
              "      <td>232925612.0125</td>\n",
              "    </tr>\n",
              "    <tr>\n",
              "      <th>2021-02-28</th>\n",
              "      <td>270525960.4631</td>\n",
              "    </tr>\n",
              "    <tr>\n",
              "      <th>2021-03-31</th>\n",
              "      <td>293005822.7423</td>\n",
              "    </tr>\n",
              "    <tr>\n",
              "      <th>2021-04-30</th>\n",
              "      <td>272670345.0191</td>\n",
              "    </tr>\n",
              "    <tr>\n",
              "      <th>2021-05-31</th>\n",
              "      <td>333754403.8141</td>\n",
              "    </tr>\n",
              "    <tr>\n",
              "      <th>2021-06-30</th>\n",
              "      <td>384039114.5697</td>\n",
              "    </tr>\n",
              "    <tr>\n",
              "      <th>2021-07-31</th>\n",
              "      <td>423691217.5295</td>\n",
              "    </tr>\n",
              "    <tr>\n",
              "      <th>2021-08-31</th>\n",
              "      <td>408245543.8070</td>\n",
              "    </tr>\n",
              "    <tr>\n",
              "      <th>2021-09-30</th>\n",
              "      <td>444879384.8285</td>\n",
              "    </tr>\n",
              "    <tr>\n",
              "      <th>2021-10-31</th>\n",
              "      <td>503130908.7289</td>\n",
              "    </tr>\n",
              "    <tr>\n",
              "      <th>2021-11-30</th>\n",
              "      <td>540733431.1214</td>\n",
              "    </tr>\n",
              "  </tbody>\n",
              "</table>\n",
              "</div>\n",
              "      <button class=\"colab-df-convert\" onclick=\"convertToInteractive('df-fdd674b4-945c-492a-ad5b-d12e9e7eaec1')\"\n",
              "              title=\"Convert this dataframe to an interactive table.\"\n",
              "              style=\"display:none;\">\n",
              "        \n",
              "  <svg xmlns=\"http://www.w3.org/2000/svg\" height=\"24px\"viewBox=\"0 0 24 24\"\n",
              "       width=\"24px\">\n",
              "    <path d=\"M0 0h24v24H0V0z\" fill=\"none\"/>\n",
              "    <path d=\"M18.56 5.44l.94 2.06.94-2.06 2.06-.94-2.06-.94-.94-2.06-.94 2.06-2.06.94zm-11 1L8.5 8.5l.94-2.06 2.06-.94-2.06-.94L8.5 2.5l-.94 2.06-2.06.94zm10 10l.94 2.06.94-2.06 2.06-.94-2.06-.94-.94-2.06-.94 2.06-2.06.94z\"/><path d=\"M17.41 7.96l-1.37-1.37c-.4-.4-.92-.59-1.43-.59-.52 0-1.04.2-1.43.59L10.3 9.45l-7.72 7.72c-.78.78-.78 2.05 0 2.83L4 21.41c.39.39.9.59 1.41.59.51 0 1.02-.2 1.41-.59l7.78-7.78 2.81-2.81c.8-.78.8-2.07 0-2.86zM5.41 20L4 18.59l7.72-7.72 1.47 1.35L5.41 20z\"/>\n",
              "  </svg>\n",
              "      </button>\n",
              "      \n",
              "  <style>\n",
              "    .colab-df-container {\n",
              "      display:flex;\n",
              "      flex-wrap:wrap;\n",
              "      gap: 12px;\n",
              "    }\n",
              "\n",
              "    .colab-df-convert {\n",
              "      background-color: #E8F0FE;\n",
              "      border: none;\n",
              "      border-radius: 50%;\n",
              "      cursor: pointer;\n",
              "      display: none;\n",
              "      fill: #1967D2;\n",
              "      height: 32px;\n",
              "      padding: 0 0 0 0;\n",
              "      width: 32px;\n",
              "    }\n",
              "\n",
              "    .colab-df-convert:hover {\n",
              "      background-color: #E2EBFA;\n",
              "      box-shadow: 0px 1px 2px rgba(60, 64, 67, 0.3), 0px 1px 3px 1px rgba(60, 64, 67, 0.15);\n",
              "      fill: #174EA6;\n",
              "    }\n",
              "\n",
              "    [theme=dark] .colab-df-convert {\n",
              "      background-color: #3B4455;\n",
              "      fill: #D2E3FC;\n",
              "    }\n",
              "\n",
              "    [theme=dark] .colab-df-convert:hover {\n",
              "      background-color: #434B5C;\n",
              "      box-shadow: 0px 1px 3px 1px rgba(0, 0, 0, 0.15);\n",
              "      filter: drop-shadow(0px 1px 2px rgba(0, 0, 0, 0.3));\n",
              "      fill: #FFFFFF;\n",
              "    }\n",
              "  </style>\n",
              "\n",
              "      <script>\n",
              "        const buttonEl =\n",
              "          document.querySelector('#df-fdd674b4-945c-492a-ad5b-d12e9e7eaec1 button.colab-df-convert');\n",
              "        buttonEl.style.display =\n",
              "          google.colab.kernel.accessAllowed ? 'block' : 'none';\n",
              "\n",
              "        async function convertToInteractive(key) {\n",
              "          const element = document.querySelector('#df-fdd674b4-945c-492a-ad5b-d12e9e7eaec1');\n",
              "          const dataTable =\n",
              "            await google.colab.kernel.invokeFunction('convertToInteractive',\n",
              "                                                     [key], {});\n",
              "          if (!dataTable) return;\n",
              "\n",
              "          const docLinkHtml = 'Like what you see? Visit the ' +\n",
              "            '<a target=\"_blank\" href=https://colab.research.google.com/notebooks/data_table.ipynb>data table notebook</a>'\n",
              "            + ' to learn more about interactive tables.';\n",
              "          element.innerHTML = '';\n",
              "          dataTable['output_type'] = 'display_data';\n",
              "          await google.colab.output.renderOutput(dataTable, element);\n",
              "          const docLink = document.createElement('div');\n",
              "          docLink.innerHTML = docLinkHtml;\n",
              "          element.appendChild(docLink);\n",
              "        }\n",
              "      </script>\n",
              "    </div>\n",
              "  </div>\n",
              "  "
            ]
          },
          "metadata": {},
          "execution_count": 26
        }
      ]
    },
    {
      "cell_type": "markdown",
      "source": [
        "de igual manera que con el dia entendemos el mes con mas txs como noviembre ya que el comportamiento es ascendente "
      ],
      "metadata": {
        "id": "GxJXHbWYjuce"
      }
    },
    {
      "cell_type": "markdown",
      "source": [
        "4.Transformación Base"
      ],
      "metadata": {
        "id": "gVAeaqM8Qvd7"
      }
    },
    {
      "cell_type": "markdown",
      "source": [
        "realizamos modificaciones a los datos con tal de poder obtener la variable respuesta de nuestro modelo al realizar operacionez como sumarizar y agrupar datos"
      ],
      "metadata": {
        "id": "rj1ElVFvj6ak"
      }
    },
    {
      "cell_type": "code",
      "source": [
        "datosok['hora']=datosok['transaction_date'].dt.hour\n",
        "datosok['dia']=datosok['transaction_date'].dt.day\n",
        "datosok['dia_sem'] = datosok['transaction_date'].dt.day_name(locale = '')\n",
        "datosok['mes']=datosok['transaction_date'].dt.month\n",
        "datosok['year']=datosok['transaction_date'].dt.year"
      ],
      "metadata": {
        "id": "xkkq2dwvTt9S"
      },
      "execution_count": 46,
      "outputs": []
    },
    {
      "cell_type": "code",
      "source": [
        "datosok=datosmod.copy()"
      ],
      "metadata": {
        "id": "9awFWKBNPkQL"
      },
      "execution_count": 35,
      "outputs": []
    },
    {
      "cell_type": "code",
      "source": [
        "datosok['sec']=datosok.sort_values(by=['subsidiary','account_number','transaction_date'], ascending=True).\\\n",
        "                     groupby(['subsidiary','account_number','user_id',pd.Grouper(key='transaction_date',freq='24h')]).cumcount()+1"
      ],
      "metadata": {
        "id": "oAiQ2SPzRC82"
      },
      "execution_count": 36,
      "outputs": []
    },
    {
      "cell_type": "code",
      "source": [
        "datosok['mnt_real']=datosok.groupby(['subsidiary','account_number', pd.Grouper(key='transaction_date',freq='24h')])['transaction_amount'].transform('sum')"
      ],
      "metadata": {
        "id": "eEXTaUSNRVFk"
      },
      "execution_count": 38,
      "outputs": []
    },
    {
      "cell_type": "code",
      "source": [
        "datosok['fraccionamientos']=datosok.groupby(['subsidiary','account_number', pd.Grouper(key='transaction_date',freq='24h')])['transaction_date'].transform('count')\n"
      ],
      "metadata": {
        "id": "ZYQ8mo43RglL"
      },
      "execution_count": 39,
      "outputs": []
    },
    {
      "cell_type": "code",
      "source": [
        "datosok"
      ],
      "metadata": {
        "colab": {
          "base_uri": "https://localhost:8080/",
          "height": 488
        },
        "id": "sxG--FRDTMkS",
        "outputId": "bd627e15-7f6a-4116-8ec4-a39f3b739ae8"
      },
      "execution_count": 47,
      "outputs": [
        {
          "output_type": "execute_result",
          "data": {
            "text/plain": [
              "                               merchant_id                               _id  \\\n",
              "0         075d178871d8d48502bf1f54887e52fe  3aeb98f02b9fbf01cc14f1679b09d5e0   \n",
              "1         075d178871d8d48502bf1f54887e52fe  dce1a8ee2b93dcf25a3ab04a7704004a   \n",
              "2         075d178871d8d48502bf1f54887e52fe  d4a6a637e49e790d5810a4abc5352c53   \n",
              "3         075d178871d8d48502bf1f54887e52fe  46032962fab1112ffaa63276cc17b19e   \n",
              "4         075d178871d8d48502bf1f54887e52fe  4bd76c0db0a932fa5e7194c0eee85fd0   \n",
              "...                                    ...                               ...   \n",
              "21517517  838a8fa992a4aa2fb5a0cf8b15b63755  79d671836ba9338658bd4cb4b25e13c5   \n",
              "21517518  838a8fa992a4aa2fb5a0cf8b15b63755  78b0f4786b79c486ebf102957ced9276   \n",
              "21517519  838a8fa992a4aa2fb5a0cf8b15b63755  3c608846d3856e330163baf627a4a543   \n",
              "21517520  838a8fa992a4aa2fb5a0cf8b15b63755  5de17bf45a6f99c7688f5ac470a012bf   \n",
              "21517521  838a8fa992a4aa2fb5a0cf8b15b63755  47860bb4e1a22b44d3c52ee8fe0e9fd2   \n",
              "\n",
              "                                subsidiary    transaction_date  \\\n",
              "0         fb502e2ca32fb79609ca7514d41c02cd 2021-09-12 18:07:10   \n",
              "1         9dbcf12729217f1027caf6b1e7eb5728 2021-09-12 18:06:56   \n",
              "2         e3936fe59f0f400afa47802c0f4c2ba2 2021-09-12 18:06:37   \n",
              "3         40d92864e9f2bfb038a41804045cd700 2021-09-12 18:07:19   \n",
              "4         66c09ecb6efbff04e80f3f491801e371 2021-09-12 18:06:23   \n",
              "...                                    ...                 ...   \n",
              "21517517  8381d930b53242e6cbf7c4e57d01c672 2021-11-30 19:20:32   \n",
              "21517518  c17cc7eaa5965f1a3fa31c8f05cff1b4 2021-11-30 19:17:56   \n",
              "21517519  05fba1fef81e9579b6fd81f677bcf158 2021-11-30 20:10:26   \n",
              "21517520  b91acbff640664832560b75d9a967852 2021-11-30 21:09:44   \n",
              "21517521  4304d6a61f3a5df338d54eadf978fa04 2021-11-30 22:11:07   \n",
              "\n",
              "                            account_number                           user_id  \\\n",
              "0         cc18c62a51b048ebf7e11ef8994c1ff3  d796d6838f4874508d5a7d1fd6fef607   \n",
              "1         d8e0d4c8125577f5a3633dd6af140eaa  eb4464242fe2bb9b7fbf6d3d38474c1e   \n",
              "2         d0d42a4eeb347c6492ef981985a47732  cbcf418306db3db0486c359b0f5b7ffa   \n",
              "3         0863565298fcac1cde864beac71480c3  1053091431afaccf776a6aa7da47937f   \n",
              "4         c5aaf5485c512e5b76bf6be7d736e9d0  ce1c4d09bf3df578d3b48ecc23cd201d   \n",
              "...                                    ...                               ...   \n",
              "21517517  e219af89710a380771cbdac66f53112a  5774e7f89f18306fa4d328fc26bcc61d   \n",
              "21517518  ba084205f828f83a551da21c5a49b7f1  016a15cd703ef0452773e74310a24ce9   \n",
              "21517519  0f0d52a707f3e8d0c172aebda2562630  0897bbbf246dd84d59f150414e7ce2bb   \n",
              "21517520  2eea6649d3d3ca8eacfa7ca7451bde45  5746c663759030b6b111aaa996d5880a   \n",
              "21517521  ebbb11ab6298322569941b0a2f76cbf0  4937eaaef6ed6135107bbf2def30ab18   \n",
              "\n",
              "          transaction_amount transaction_type  sec  mnt_real  \\\n",
              "0                    59.4446          CREDITO    1   59.4446   \n",
              "1                    23.7778          CREDITO    1   23.7778   \n",
              "2                    35.6667          CREDITO    1   35.6667   \n",
              "3                    10.7000          CREDITO    1   10.7000   \n",
              "4                    59.4446          CREDITO    1   59.4446   \n",
              "...                      ...              ...  ...       ...   \n",
              "21517517             41.6112          CREDITO    1   41.6112   \n",
              "21517518            249.6671          CREDITO    1  249.6671   \n",
              "21517519              5.9445          CREDITO    1    5.9445   \n",
              "21517520             11.8889          CREDITO    1   11.8889   \n",
              "21517521            356.6673          CREDITO    1  356.6673   \n",
              "\n",
              "          fraccionamientos  hora  dia  dia_sem  mes  year  \n",
              "0                        1    18   12   Sunday    9  2021  \n",
              "1                        1    18   12   Sunday    9  2021  \n",
              "2                        1    18   12   Sunday    9  2021  \n",
              "3                        1    18   12   Sunday    9  2021  \n",
              "4                        1    18   12   Sunday    9  2021  \n",
              "...                    ...   ...  ...      ...  ...   ...  \n",
              "21517517                 1    19   30  Tuesday   11  2021  \n",
              "21517518                 1    19   30  Tuesday   11  2021  \n",
              "21517519                 1    20   30  Tuesday   11  2021  \n",
              "21517520                 1    21   30  Tuesday   11  2021  \n",
              "21517521                 1    22   30  Tuesday   11  2021  \n",
              "\n",
              "[21517522 rows x 16 columns]"
            ],
            "text/html": [
              "\n",
              "  <div id=\"df-bf175b9b-16e3-49da-a603-052c20fd9cbf\">\n",
              "    <div class=\"colab-df-container\">\n",
              "      <div>\n",
              "<style scoped>\n",
              "    .dataframe tbody tr th:only-of-type {\n",
              "        vertical-align: middle;\n",
              "    }\n",
              "\n",
              "    .dataframe tbody tr th {\n",
              "        vertical-align: top;\n",
              "    }\n",
              "\n",
              "    .dataframe thead th {\n",
              "        text-align: right;\n",
              "    }\n",
              "</style>\n",
              "<table border=\"1\" class=\"dataframe\">\n",
              "  <thead>\n",
              "    <tr style=\"text-align: right;\">\n",
              "      <th></th>\n",
              "      <th>merchant_id</th>\n",
              "      <th>_id</th>\n",
              "      <th>subsidiary</th>\n",
              "      <th>transaction_date</th>\n",
              "      <th>account_number</th>\n",
              "      <th>user_id</th>\n",
              "      <th>transaction_amount</th>\n",
              "      <th>transaction_type</th>\n",
              "      <th>sec</th>\n",
              "      <th>mnt_real</th>\n",
              "      <th>fraccionamientos</th>\n",
              "      <th>hora</th>\n",
              "      <th>dia</th>\n",
              "      <th>dia_sem</th>\n",
              "      <th>mes</th>\n",
              "      <th>year</th>\n",
              "    </tr>\n",
              "  </thead>\n",
              "  <tbody>\n",
              "    <tr>\n",
              "      <th>0</th>\n",
              "      <td>075d178871d8d48502bf1f54887e52fe</td>\n",
              "      <td>3aeb98f02b9fbf01cc14f1679b09d5e0</td>\n",
              "      <td>fb502e2ca32fb79609ca7514d41c02cd</td>\n",
              "      <td>2021-09-12 18:07:10</td>\n",
              "      <td>cc18c62a51b048ebf7e11ef8994c1ff3</td>\n",
              "      <td>d796d6838f4874508d5a7d1fd6fef607</td>\n",
              "      <td>59.4446</td>\n",
              "      <td>CREDITO</td>\n",
              "      <td>1</td>\n",
              "      <td>59.4446</td>\n",
              "      <td>1</td>\n",
              "      <td>18</td>\n",
              "      <td>12</td>\n",
              "      <td>Sunday</td>\n",
              "      <td>9</td>\n",
              "      <td>2021</td>\n",
              "    </tr>\n",
              "    <tr>\n",
              "      <th>1</th>\n",
              "      <td>075d178871d8d48502bf1f54887e52fe</td>\n",
              "      <td>dce1a8ee2b93dcf25a3ab04a7704004a</td>\n",
              "      <td>9dbcf12729217f1027caf6b1e7eb5728</td>\n",
              "      <td>2021-09-12 18:06:56</td>\n",
              "      <td>d8e0d4c8125577f5a3633dd6af140eaa</td>\n",
              "      <td>eb4464242fe2bb9b7fbf6d3d38474c1e</td>\n",
              "      <td>23.7778</td>\n",
              "      <td>CREDITO</td>\n",
              "      <td>1</td>\n",
              "      <td>23.7778</td>\n",
              "      <td>1</td>\n",
              "      <td>18</td>\n",
              "      <td>12</td>\n",
              "      <td>Sunday</td>\n",
              "      <td>9</td>\n",
              "      <td>2021</td>\n",
              "    </tr>\n",
              "    <tr>\n",
              "      <th>2</th>\n",
              "      <td>075d178871d8d48502bf1f54887e52fe</td>\n",
              "      <td>d4a6a637e49e790d5810a4abc5352c53</td>\n",
              "      <td>e3936fe59f0f400afa47802c0f4c2ba2</td>\n",
              "      <td>2021-09-12 18:06:37</td>\n",
              "      <td>d0d42a4eeb347c6492ef981985a47732</td>\n",
              "      <td>cbcf418306db3db0486c359b0f5b7ffa</td>\n",
              "      <td>35.6667</td>\n",
              "      <td>CREDITO</td>\n",
              "      <td>1</td>\n",
              "      <td>35.6667</td>\n",
              "      <td>1</td>\n",
              "      <td>18</td>\n",
              "      <td>12</td>\n",
              "      <td>Sunday</td>\n",
              "      <td>9</td>\n",
              "      <td>2021</td>\n",
              "    </tr>\n",
              "    <tr>\n",
              "      <th>3</th>\n",
              "      <td>075d178871d8d48502bf1f54887e52fe</td>\n",
              "      <td>46032962fab1112ffaa63276cc17b19e</td>\n",
              "      <td>40d92864e9f2bfb038a41804045cd700</td>\n",
              "      <td>2021-09-12 18:07:19</td>\n",
              "      <td>0863565298fcac1cde864beac71480c3</td>\n",
              "      <td>1053091431afaccf776a6aa7da47937f</td>\n",
              "      <td>10.7000</td>\n",
              "      <td>CREDITO</td>\n",
              "      <td>1</td>\n",
              "      <td>10.7000</td>\n",
              "      <td>1</td>\n",
              "      <td>18</td>\n",
              "      <td>12</td>\n",
              "      <td>Sunday</td>\n",
              "      <td>9</td>\n",
              "      <td>2021</td>\n",
              "    </tr>\n",
              "    <tr>\n",
              "      <th>4</th>\n",
              "      <td>075d178871d8d48502bf1f54887e52fe</td>\n",
              "      <td>4bd76c0db0a932fa5e7194c0eee85fd0</td>\n",
              "      <td>66c09ecb6efbff04e80f3f491801e371</td>\n",
              "      <td>2021-09-12 18:06:23</td>\n",
              "      <td>c5aaf5485c512e5b76bf6be7d736e9d0</td>\n",
              "      <td>ce1c4d09bf3df578d3b48ecc23cd201d</td>\n",
              "      <td>59.4446</td>\n",
              "      <td>CREDITO</td>\n",
              "      <td>1</td>\n",
              "      <td>59.4446</td>\n",
              "      <td>1</td>\n",
              "      <td>18</td>\n",
              "      <td>12</td>\n",
              "      <td>Sunday</td>\n",
              "      <td>9</td>\n",
              "      <td>2021</td>\n",
              "    </tr>\n",
              "    <tr>\n",
              "      <th>...</th>\n",
              "      <td>...</td>\n",
              "      <td>...</td>\n",
              "      <td>...</td>\n",
              "      <td>...</td>\n",
              "      <td>...</td>\n",
              "      <td>...</td>\n",
              "      <td>...</td>\n",
              "      <td>...</td>\n",
              "      <td>...</td>\n",
              "      <td>...</td>\n",
              "      <td>...</td>\n",
              "      <td>...</td>\n",
              "      <td>...</td>\n",
              "      <td>...</td>\n",
              "      <td>...</td>\n",
              "      <td>...</td>\n",
              "    </tr>\n",
              "    <tr>\n",
              "      <th>21517517</th>\n",
              "      <td>838a8fa992a4aa2fb5a0cf8b15b63755</td>\n",
              "      <td>79d671836ba9338658bd4cb4b25e13c5</td>\n",
              "      <td>8381d930b53242e6cbf7c4e57d01c672</td>\n",
              "      <td>2021-11-30 19:20:32</td>\n",
              "      <td>e219af89710a380771cbdac66f53112a</td>\n",
              "      <td>5774e7f89f18306fa4d328fc26bcc61d</td>\n",
              "      <td>41.6112</td>\n",
              "      <td>CREDITO</td>\n",
              "      <td>1</td>\n",
              "      <td>41.6112</td>\n",
              "      <td>1</td>\n",
              "      <td>19</td>\n",
              "      <td>30</td>\n",
              "      <td>Tuesday</td>\n",
              "      <td>11</td>\n",
              "      <td>2021</td>\n",
              "    </tr>\n",
              "    <tr>\n",
              "      <th>21517518</th>\n",
              "      <td>838a8fa992a4aa2fb5a0cf8b15b63755</td>\n",
              "      <td>78b0f4786b79c486ebf102957ced9276</td>\n",
              "      <td>c17cc7eaa5965f1a3fa31c8f05cff1b4</td>\n",
              "      <td>2021-11-30 19:17:56</td>\n",
              "      <td>ba084205f828f83a551da21c5a49b7f1</td>\n",
              "      <td>016a15cd703ef0452773e74310a24ce9</td>\n",
              "      <td>249.6671</td>\n",
              "      <td>CREDITO</td>\n",
              "      <td>1</td>\n",
              "      <td>249.6671</td>\n",
              "      <td>1</td>\n",
              "      <td>19</td>\n",
              "      <td>30</td>\n",
              "      <td>Tuesday</td>\n",
              "      <td>11</td>\n",
              "      <td>2021</td>\n",
              "    </tr>\n",
              "    <tr>\n",
              "      <th>21517519</th>\n",
              "      <td>838a8fa992a4aa2fb5a0cf8b15b63755</td>\n",
              "      <td>3c608846d3856e330163baf627a4a543</td>\n",
              "      <td>05fba1fef81e9579b6fd81f677bcf158</td>\n",
              "      <td>2021-11-30 20:10:26</td>\n",
              "      <td>0f0d52a707f3e8d0c172aebda2562630</td>\n",
              "      <td>0897bbbf246dd84d59f150414e7ce2bb</td>\n",
              "      <td>5.9445</td>\n",
              "      <td>CREDITO</td>\n",
              "      <td>1</td>\n",
              "      <td>5.9445</td>\n",
              "      <td>1</td>\n",
              "      <td>20</td>\n",
              "      <td>30</td>\n",
              "      <td>Tuesday</td>\n",
              "      <td>11</td>\n",
              "      <td>2021</td>\n",
              "    </tr>\n",
              "    <tr>\n",
              "      <th>21517520</th>\n",
              "      <td>838a8fa992a4aa2fb5a0cf8b15b63755</td>\n",
              "      <td>5de17bf45a6f99c7688f5ac470a012bf</td>\n",
              "      <td>b91acbff640664832560b75d9a967852</td>\n",
              "      <td>2021-11-30 21:09:44</td>\n",
              "      <td>2eea6649d3d3ca8eacfa7ca7451bde45</td>\n",
              "      <td>5746c663759030b6b111aaa996d5880a</td>\n",
              "      <td>11.8889</td>\n",
              "      <td>CREDITO</td>\n",
              "      <td>1</td>\n",
              "      <td>11.8889</td>\n",
              "      <td>1</td>\n",
              "      <td>21</td>\n",
              "      <td>30</td>\n",
              "      <td>Tuesday</td>\n",
              "      <td>11</td>\n",
              "      <td>2021</td>\n",
              "    </tr>\n",
              "    <tr>\n",
              "      <th>21517521</th>\n",
              "      <td>838a8fa992a4aa2fb5a0cf8b15b63755</td>\n",
              "      <td>47860bb4e1a22b44d3c52ee8fe0e9fd2</td>\n",
              "      <td>4304d6a61f3a5df338d54eadf978fa04</td>\n",
              "      <td>2021-11-30 22:11:07</td>\n",
              "      <td>ebbb11ab6298322569941b0a2f76cbf0</td>\n",
              "      <td>4937eaaef6ed6135107bbf2def30ab18</td>\n",
              "      <td>356.6673</td>\n",
              "      <td>CREDITO</td>\n",
              "      <td>1</td>\n",
              "      <td>356.6673</td>\n",
              "      <td>1</td>\n",
              "      <td>22</td>\n",
              "      <td>30</td>\n",
              "      <td>Tuesday</td>\n",
              "      <td>11</td>\n",
              "      <td>2021</td>\n",
              "    </tr>\n",
              "  </tbody>\n",
              "</table>\n",
              "<p>21517522 rows × 16 columns</p>\n",
              "</div>\n",
              "      <button class=\"colab-df-convert\" onclick=\"convertToInteractive('df-bf175b9b-16e3-49da-a603-052c20fd9cbf')\"\n",
              "              title=\"Convert this dataframe to an interactive table.\"\n",
              "              style=\"display:none;\">\n",
              "        \n",
              "  <svg xmlns=\"http://www.w3.org/2000/svg\" height=\"24px\"viewBox=\"0 0 24 24\"\n",
              "       width=\"24px\">\n",
              "    <path d=\"M0 0h24v24H0V0z\" fill=\"none\"/>\n",
              "    <path d=\"M18.56 5.44l.94 2.06.94-2.06 2.06-.94-2.06-.94-.94-2.06-.94 2.06-2.06.94zm-11 1L8.5 8.5l.94-2.06 2.06-.94-2.06-.94L8.5 2.5l-.94 2.06-2.06.94zm10 10l.94 2.06.94-2.06 2.06-.94-2.06-.94-.94-2.06-.94 2.06-2.06.94z\"/><path d=\"M17.41 7.96l-1.37-1.37c-.4-.4-.92-.59-1.43-.59-.52 0-1.04.2-1.43.59L10.3 9.45l-7.72 7.72c-.78.78-.78 2.05 0 2.83L4 21.41c.39.39.9.59 1.41.59.51 0 1.02-.2 1.41-.59l7.78-7.78 2.81-2.81c.8-.78.8-2.07 0-2.86zM5.41 20L4 18.59l7.72-7.72 1.47 1.35L5.41 20z\"/>\n",
              "  </svg>\n",
              "      </button>\n",
              "      \n",
              "  <style>\n",
              "    .colab-df-container {\n",
              "      display:flex;\n",
              "      flex-wrap:wrap;\n",
              "      gap: 12px;\n",
              "    }\n",
              "\n",
              "    .colab-df-convert {\n",
              "      background-color: #E8F0FE;\n",
              "      border: none;\n",
              "      border-radius: 50%;\n",
              "      cursor: pointer;\n",
              "      display: none;\n",
              "      fill: #1967D2;\n",
              "      height: 32px;\n",
              "      padding: 0 0 0 0;\n",
              "      width: 32px;\n",
              "    }\n",
              "\n",
              "    .colab-df-convert:hover {\n",
              "      background-color: #E2EBFA;\n",
              "      box-shadow: 0px 1px 2px rgba(60, 64, 67, 0.3), 0px 1px 3px 1px rgba(60, 64, 67, 0.15);\n",
              "      fill: #174EA6;\n",
              "    }\n",
              "\n",
              "    [theme=dark] .colab-df-convert {\n",
              "      background-color: #3B4455;\n",
              "      fill: #D2E3FC;\n",
              "    }\n",
              "\n",
              "    [theme=dark] .colab-df-convert:hover {\n",
              "      background-color: #434B5C;\n",
              "      box-shadow: 0px 1px 3px 1px rgba(0, 0, 0, 0.15);\n",
              "      filter: drop-shadow(0px 1px 2px rgba(0, 0, 0, 0.3));\n",
              "      fill: #FFFFFF;\n",
              "    }\n",
              "  </style>\n",
              "\n",
              "      <script>\n",
              "        const buttonEl =\n",
              "          document.querySelector('#df-bf175b9b-16e3-49da-a603-052c20fd9cbf button.colab-df-convert');\n",
              "        buttonEl.style.display =\n",
              "          google.colab.kernel.accessAllowed ? 'block' : 'none';\n",
              "\n",
              "        async function convertToInteractive(key) {\n",
              "          const element = document.querySelector('#df-bf175b9b-16e3-49da-a603-052c20fd9cbf');\n",
              "          const dataTable =\n",
              "            await google.colab.kernel.invokeFunction('convertToInteractive',\n",
              "                                                     [key], {});\n",
              "          if (!dataTable) return;\n",
              "\n",
              "          const docLinkHtml = 'Like what you see? Visit the ' +\n",
              "            '<a target=\"_blank\" href=https://colab.research.google.com/notebooks/data_table.ipynb>data table notebook</a>'\n",
              "            + ' to learn more about interactive tables.';\n",
              "          element.innerHTML = '';\n",
              "          dataTable['output_type'] = 'display_data';\n",
              "          await google.colab.output.renderOutput(dataTable, element);\n",
              "          const docLink = document.createElement('div');\n",
              "          docLink.innerHTML = docLinkHtml;\n",
              "          element.appendChild(docLink);\n",
              "        }\n",
              "      </script>\n",
              "    </div>\n",
              "  </div>\n",
              "  "
            ]
          },
          "metadata": {},
          "execution_count": 47
        }
      ]
    },
    {
      "cell_type": "code",
      "source": [
        "datosok['cant_month_txs']=datosok.groupby(['subsidiary','account_number','user_id'])['mes'].transform('nunique')"
      ],
      "metadata": {
        "id": "eWfCmPd5Rncn"
      },
      "execution_count": 49,
      "outputs": []
    },
    {
      "cell_type": "code",
      "source": [
        "datosok['txs_mes']=datosok.groupby(['subsidiary','account_number','user_id','mes'])['transaction_amount'].transform('mean')"
      ],
      "metadata": {
        "id": "pT4rO_iYRwLe"
      },
      "execution_count": 50,
      "outputs": []
    },
    {
      "cell_type": "code",
      "source": [
        "datosok['malapract']=datosok['fraccionamientos'].apply(lambda x: 0 if x==1 else 1)"
      ],
      "metadata": {
        "id": "GhsjaxpaR3o_"
      },
      "execution_count": 51,
      "outputs": []
    },
    {
      "cell_type": "code",
      "source": [
        "datosok['monto_frac']=datosok['transaction_amount']/datosok['mnt_real']"
      ],
      "metadata": {
        "id": "fAlgcglwSKSz"
      },
      "execution_count": 52,
      "outputs": []
    },
    {
      "cell_type": "code",
      "source": [
        "datosok"
      ],
      "metadata": {
        "colab": {
          "base_uri": "https://localhost:8080/",
          "height": 488
        },
        "id": "FngdApdwUxq-",
        "outputId": "9c2cded7-5ff2-4675-b24a-3ace6121fd7e"
      },
      "execution_count": 53,
      "outputs": [
        {
          "output_type": "execute_result",
          "data": {
            "text/plain": [
              "                               merchant_id                               _id  \\\n",
              "0         075d178871d8d48502bf1f54887e52fe  3aeb98f02b9fbf01cc14f1679b09d5e0   \n",
              "1         075d178871d8d48502bf1f54887e52fe  dce1a8ee2b93dcf25a3ab04a7704004a   \n",
              "2         075d178871d8d48502bf1f54887e52fe  d4a6a637e49e790d5810a4abc5352c53   \n",
              "3         075d178871d8d48502bf1f54887e52fe  46032962fab1112ffaa63276cc17b19e   \n",
              "4         075d178871d8d48502bf1f54887e52fe  4bd76c0db0a932fa5e7194c0eee85fd0   \n",
              "...                                    ...                               ...   \n",
              "21517517  838a8fa992a4aa2fb5a0cf8b15b63755  79d671836ba9338658bd4cb4b25e13c5   \n",
              "21517518  838a8fa992a4aa2fb5a0cf8b15b63755  78b0f4786b79c486ebf102957ced9276   \n",
              "21517519  838a8fa992a4aa2fb5a0cf8b15b63755  3c608846d3856e330163baf627a4a543   \n",
              "21517520  838a8fa992a4aa2fb5a0cf8b15b63755  5de17bf45a6f99c7688f5ac470a012bf   \n",
              "21517521  838a8fa992a4aa2fb5a0cf8b15b63755  47860bb4e1a22b44d3c52ee8fe0e9fd2   \n",
              "\n",
              "                                subsidiary    transaction_date  \\\n",
              "0         fb502e2ca32fb79609ca7514d41c02cd 2021-09-12 18:07:10   \n",
              "1         9dbcf12729217f1027caf6b1e7eb5728 2021-09-12 18:06:56   \n",
              "2         e3936fe59f0f400afa47802c0f4c2ba2 2021-09-12 18:06:37   \n",
              "3         40d92864e9f2bfb038a41804045cd700 2021-09-12 18:07:19   \n",
              "4         66c09ecb6efbff04e80f3f491801e371 2021-09-12 18:06:23   \n",
              "...                                    ...                 ...   \n",
              "21517517  8381d930b53242e6cbf7c4e57d01c672 2021-11-30 19:20:32   \n",
              "21517518  c17cc7eaa5965f1a3fa31c8f05cff1b4 2021-11-30 19:17:56   \n",
              "21517519  05fba1fef81e9579b6fd81f677bcf158 2021-11-30 20:10:26   \n",
              "21517520  b91acbff640664832560b75d9a967852 2021-11-30 21:09:44   \n",
              "21517521  4304d6a61f3a5df338d54eadf978fa04 2021-11-30 22:11:07   \n",
              "\n",
              "                            account_number                           user_id  \\\n",
              "0         cc18c62a51b048ebf7e11ef8994c1ff3  d796d6838f4874508d5a7d1fd6fef607   \n",
              "1         d8e0d4c8125577f5a3633dd6af140eaa  eb4464242fe2bb9b7fbf6d3d38474c1e   \n",
              "2         d0d42a4eeb347c6492ef981985a47732  cbcf418306db3db0486c359b0f5b7ffa   \n",
              "3         0863565298fcac1cde864beac71480c3  1053091431afaccf776a6aa7da47937f   \n",
              "4         c5aaf5485c512e5b76bf6be7d736e9d0  ce1c4d09bf3df578d3b48ecc23cd201d   \n",
              "...                                    ...                               ...   \n",
              "21517517  e219af89710a380771cbdac66f53112a  5774e7f89f18306fa4d328fc26bcc61d   \n",
              "21517518  ba084205f828f83a551da21c5a49b7f1  016a15cd703ef0452773e74310a24ce9   \n",
              "21517519  0f0d52a707f3e8d0c172aebda2562630  0897bbbf246dd84d59f150414e7ce2bb   \n",
              "21517520  2eea6649d3d3ca8eacfa7ca7451bde45  5746c663759030b6b111aaa996d5880a   \n",
              "21517521  ebbb11ab6298322569941b0a2f76cbf0  4937eaaef6ed6135107bbf2def30ab18   \n",
              "\n",
              "          transaction_amount transaction_type  sec  mnt_real  ...  hora  dia  \\\n",
              "0                    59.4446          CREDITO    1   59.4446  ...    18   12   \n",
              "1                    23.7778          CREDITO    1   23.7778  ...    18   12   \n",
              "2                    35.6667          CREDITO    1   35.6667  ...    18   12   \n",
              "3                    10.7000          CREDITO    1   10.7000  ...    18   12   \n",
              "4                    59.4446          CREDITO    1   59.4446  ...    18   12   \n",
              "...                      ...              ...  ...       ...  ...   ...  ...   \n",
              "21517517             41.6112          CREDITO    1   41.6112  ...    19   30   \n",
              "21517518            249.6671          CREDITO    1  249.6671  ...    19   30   \n",
              "21517519              5.9445          CREDITO    1    5.9445  ...    20   30   \n",
              "21517520             11.8889          CREDITO    1   11.8889  ...    21   30   \n",
              "21517521            356.6673          CREDITO    1  356.6673  ...    22   30   \n",
              "\n",
              "          dia_sem mes  year  cant_month_tran  cant_month_txs  txs_mes  \\\n",
              "0          Sunday   9  2021                3               3  59.4446   \n",
              "1          Sunday   9  2021                3               3  23.7778   \n",
              "2          Sunday   9  2021                5               5  35.6667   \n",
              "3          Sunday   9  2021                3               3  10.7000   \n",
              "4          Sunday   9  2021                1               1  59.4446   \n",
              "...           ...  ..   ...              ...             ...      ...   \n",
              "21517517  Tuesday  11  2021                1               1  41.6112   \n",
              "21517518  Tuesday  11  2021                1               1 249.6671   \n",
              "21517519  Tuesday  11  2021                1               1   5.9445   \n",
              "21517520  Tuesday  11  2021                1               1  11.8889   \n",
              "21517521  Tuesday  11  2021                1               1 356.6673   \n",
              "\n",
              "          malapract  monto_frac  \n",
              "0                 0      1.0000  \n",
              "1                 0      1.0000  \n",
              "2                 0      1.0000  \n",
              "3                 0      1.0000  \n",
              "4                 0      1.0000  \n",
              "...             ...         ...  \n",
              "21517517          0      1.0000  \n",
              "21517518          0      1.0000  \n",
              "21517519          0      1.0000  \n",
              "21517520          0      1.0000  \n",
              "21517521          0      1.0000  \n",
              "\n",
              "[21517522 rows x 21 columns]"
            ],
            "text/html": [
              "\n",
              "  <div id=\"df-d98a999a-3975-495e-8c89-34dbc68beb13\">\n",
              "    <div class=\"colab-df-container\">\n",
              "      <div>\n",
              "<style scoped>\n",
              "    .dataframe tbody tr th:only-of-type {\n",
              "        vertical-align: middle;\n",
              "    }\n",
              "\n",
              "    .dataframe tbody tr th {\n",
              "        vertical-align: top;\n",
              "    }\n",
              "\n",
              "    .dataframe thead th {\n",
              "        text-align: right;\n",
              "    }\n",
              "</style>\n",
              "<table border=\"1\" class=\"dataframe\">\n",
              "  <thead>\n",
              "    <tr style=\"text-align: right;\">\n",
              "      <th></th>\n",
              "      <th>merchant_id</th>\n",
              "      <th>_id</th>\n",
              "      <th>subsidiary</th>\n",
              "      <th>transaction_date</th>\n",
              "      <th>account_number</th>\n",
              "      <th>user_id</th>\n",
              "      <th>transaction_amount</th>\n",
              "      <th>transaction_type</th>\n",
              "      <th>sec</th>\n",
              "      <th>mnt_real</th>\n",
              "      <th>...</th>\n",
              "      <th>hora</th>\n",
              "      <th>dia</th>\n",
              "      <th>dia_sem</th>\n",
              "      <th>mes</th>\n",
              "      <th>year</th>\n",
              "      <th>cant_month_tran</th>\n",
              "      <th>cant_month_txs</th>\n",
              "      <th>txs_mes</th>\n",
              "      <th>malapract</th>\n",
              "      <th>monto_frac</th>\n",
              "    </tr>\n",
              "  </thead>\n",
              "  <tbody>\n",
              "    <tr>\n",
              "      <th>0</th>\n",
              "      <td>075d178871d8d48502bf1f54887e52fe</td>\n",
              "      <td>3aeb98f02b9fbf01cc14f1679b09d5e0</td>\n",
              "      <td>fb502e2ca32fb79609ca7514d41c02cd</td>\n",
              "      <td>2021-09-12 18:07:10</td>\n",
              "      <td>cc18c62a51b048ebf7e11ef8994c1ff3</td>\n",
              "      <td>d796d6838f4874508d5a7d1fd6fef607</td>\n",
              "      <td>59.4446</td>\n",
              "      <td>CREDITO</td>\n",
              "      <td>1</td>\n",
              "      <td>59.4446</td>\n",
              "      <td>...</td>\n",
              "      <td>18</td>\n",
              "      <td>12</td>\n",
              "      <td>Sunday</td>\n",
              "      <td>9</td>\n",
              "      <td>2021</td>\n",
              "      <td>3</td>\n",
              "      <td>3</td>\n",
              "      <td>59.4446</td>\n",
              "      <td>0</td>\n",
              "      <td>1.0000</td>\n",
              "    </tr>\n",
              "    <tr>\n",
              "      <th>1</th>\n",
              "      <td>075d178871d8d48502bf1f54887e52fe</td>\n",
              "      <td>dce1a8ee2b93dcf25a3ab04a7704004a</td>\n",
              "      <td>9dbcf12729217f1027caf6b1e7eb5728</td>\n",
              "      <td>2021-09-12 18:06:56</td>\n",
              "      <td>d8e0d4c8125577f5a3633dd6af140eaa</td>\n",
              "      <td>eb4464242fe2bb9b7fbf6d3d38474c1e</td>\n",
              "      <td>23.7778</td>\n",
              "      <td>CREDITO</td>\n",
              "      <td>1</td>\n",
              "      <td>23.7778</td>\n",
              "      <td>...</td>\n",
              "      <td>18</td>\n",
              "      <td>12</td>\n",
              "      <td>Sunday</td>\n",
              "      <td>9</td>\n",
              "      <td>2021</td>\n",
              "      <td>3</td>\n",
              "      <td>3</td>\n",
              "      <td>23.7778</td>\n",
              "      <td>0</td>\n",
              "      <td>1.0000</td>\n",
              "    </tr>\n",
              "    <tr>\n",
              "      <th>2</th>\n",
              "      <td>075d178871d8d48502bf1f54887e52fe</td>\n",
              "      <td>d4a6a637e49e790d5810a4abc5352c53</td>\n",
              "      <td>e3936fe59f0f400afa47802c0f4c2ba2</td>\n",
              "      <td>2021-09-12 18:06:37</td>\n",
              "      <td>d0d42a4eeb347c6492ef981985a47732</td>\n",
              "      <td>cbcf418306db3db0486c359b0f5b7ffa</td>\n",
              "      <td>35.6667</td>\n",
              "      <td>CREDITO</td>\n",
              "      <td>1</td>\n",
              "      <td>35.6667</td>\n",
              "      <td>...</td>\n",
              "      <td>18</td>\n",
              "      <td>12</td>\n",
              "      <td>Sunday</td>\n",
              "      <td>9</td>\n",
              "      <td>2021</td>\n",
              "      <td>5</td>\n",
              "      <td>5</td>\n",
              "      <td>35.6667</td>\n",
              "      <td>0</td>\n",
              "      <td>1.0000</td>\n",
              "    </tr>\n",
              "    <tr>\n",
              "      <th>3</th>\n",
              "      <td>075d178871d8d48502bf1f54887e52fe</td>\n",
              "      <td>46032962fab1112ffaa63276cc17b19e</td>\n",
              "      <td>40d92864e9f2bfb038a41804045cd700</td>\n",
              "      <td>2021-09-12 18:07:19</td>\n",
              "      <td>0863565298fcac1cde864beac71480c3</td>\n",
              "      <td>1053091431afaccf776a6aa7da47937f</td>\n",
              "      <td>10.7000</td>\n",
              "      <td>CREDITO</td>\n",
              "      <td>1</td>\n",
              "      <td>10.7000</td>\n",
              "      <td>...</td>\n",
              "      <td>18</td>\n",
              "      <td>12</td>\n",
              "      <td>Sunday</td>\n",
              "      <td>9</td>\n",
              "      <td>2021</td>\n",
              "      <td>3</td>\n",
              "      <td>3</td>\n",
              "      <td>10.7000</td>\n",
              "      <td>0</td>\n",
              "      <td>1.0000</td>\n",
              "    </tr>\n",
              "    <tr>\n",
              "      <th>4</th>\n",
              "      <td>075d178871d8d48502bf1f54887e52fe</td>\n",
              "      <td>4bd76c0db0a932fa5e7194c0eee85fd0</td>\n",
              "      <td>66c09ecb6efbff04e80f3f491801e371</td>\n",
              "      <td>2021-09-12 18:06:23</td>\n",
              "      <td>c5aaf5485c512e5b76bf6be7d736e9d0</td>\n",
              "      <td>ce1c4d09bf3df578d3b48ecc23cd201d</td>\n",
              "      <td>59.4446</td>\n",
              "      <td>CREDITO</td>\n",
              "      <td>1</td>\n",
              "      <td>59.4446</td>\n",
              "      <td>...</td>\n",
              "      <td>18</td>\n",
              "      <td>12</td>\n",
              "      <td>Sunday</td>\n",
              "      <td>9</td>\n",
              "      <td>2021</td>\n",
              "      <td>1</td>\n",
              "      <td>1</td>\n",
              "      <td>59.4446</td>\n",
              "      <td>0</td>\n",
              "      <td>1.0000</td>\n",
              "    </tr>\n",
              "    <tr>\n",
              "      <th>...</th>\n",
              "      <td>...</td>\n",
              "      <td>...</td>\n",
              "      <td>...</td>\n",
              "      <td>...</td>\n",
              "      <td>...</td>\n",
              "      <td>...</td>\n",
              "      <td>...</td>\n",
              "      <td>...</td>\n",
              "      <td>...</td>\n",
              "      <td>...</td>\n",
              "      <td>...</td>\n",
              "      <td>...</td>\n",
              "      <td>...</td>\n",
              "      <td>...</td>\n",
              "      <td>...</td>\n",
              "      <td>...</td>\n",
              "      <td>...</td>\n",
              "      <td>...</td>\n",
              "      <td>...</td>\n",
              "      <td>...</td>\n",
              "      <td>...</td>\n",
              "    </tr>\n",
              "    <tr>\n",
              "      <th>21517517</th>\n",
              "      <td>838a8fa992a4aa2fb5a0cf8b15b63755</td>\n",
              "      <td>79d671836ba9338658bd4cb4b25e13c5</td>\n",
              "      <td>8381d930b53242e6cbf7c4e57d01c672</td>\n",
              "      <td>2021-11-30 19:20:32</td>\n",
              "      <td>e219af89710a380771cbdac66f53112a</td>\n",
              "      <td>5774e7f89f18306fa4d328fc26bcc61d</td>\n",
              "      <td>41.6112</td>\n",
              "      <td>CREDITO</td>\n",
              "      <td>1</td>\n",
              "      <td>41.6112</td>\n",
              "      <td>...</td>\n",
              "      <td>19</td>\n",
              "      <td>30</td>\n",
              "      <td>Tuesday</td>\n",
              "      <td>11</td>\n",
              "      <td>2021</td>\n",
              "      <td>1</td>\n",
              "      <td>1</td>\n",
              "      <td>41.6112</td>\n",
              "      <td>0</td>\n",
              "      <td>1.0000</td>\n",
              "    </tr>\n",
              "    <tr>\n",
              "      <th>21517518</th>\n",
              "      <td>838a8fa992a4aa2fb5a0cf8b15b63755</td>\n",
              "      <td>78b0f4786b79c486ebf102957ced9276</td>\n",
              "      <td>c17cc7eaa5965f1a3fa31c8f05cff1b4</td>\n",
              "      <td>2021-11-30 19:17:56</td>\n",
              "      <td>ba084205f828f83a551da21c5a49b7f1</td>\n",
              "      <td>016a15cd703ef0452773e74310a24ce9</td>\n",
              "      <td>249.6671</td>\n",
              "      <td>CREDITO</td>\n",
              "      <td>1</td>\n",
              "      <td>249.6671</td>\n",
              "      <td>...</td>\n",
              "      <td>19</td>\n",
              "      <td>30</td>\n",
              "      <td>Tuesday</td>\n",
              "      <td>11</td>\n",
              "      <td>2021</td>\n",
              "      <td>1</td>\n",
              "      <td>1</td>\n",
              "      <td>249.6671</td>\n",
              "      <td>0</td>\n",
              "      <td>1.0000</td>\n",
              "    </tr>\n",
              "    <tr>\n",
              "      <th>21517519</th>\n",
              "      <td>838a8fa992a4aa2fb5a0cf8b15b63755</td>\n",
              "      <td>3c608846d3856e330163baf627a4a543</td>\n",
              "      <td>05fba1fef81e9579b6fd81f677bcf158</td>\n",
              "      <td>2021-11-30 20:10:26</td>\n",
              "      <td>0f0d52a707f3e8d0c172aebda2562630</td>\n",
              "      <td>0897bbbf246dd84d59f150414e7ce2bb</td>\n",
              "      <td>5.9445</td>\n",
              "      <td>CREDITO</td>\n",
              "      <td>1</td>\n",
              "      <td>5.9445</td>\n",
              "      <td>...</td>\n",
              "      <td>20</td>\n",
              "      <td>30</td>\n",
              "      <td>Tuesday</td>\n",
              "      <td>11</td>\n",
              "      <td>2021</td>\n",
              "      <td>1</td>\n",
              "      <td>1</td>\n",
              "      <td>5.9445</td>\n",
              "      <td>0</td>\n",
              "      <td>1.0000</td>\n",
              "    </tr>\n",
              "    <tr>\n",
              "      <th>21517520</th>\n",
              "      <td>838a8fa992a4aa2fb5a0cf8b15b63755</td>\n",
              "      <td>5de17bf45a6f99c7688f5ac470a012bf</td>\n",
              "      <td>b91acbff640664832560b75d9a967852</td>\n",
              "      <td>2021-11-30 21:09:44</td>\n",
              "      <td>2eea6649d3d3ca8eacfa7ca7451bde45</td>\n",
              "      <td>5746c663759030b6b111aaa996d5880a</td>\n",
              "      <td>11.8889</td>\n",
              "      <td>CREDITO</td>\n",
              "      <td>1</td>\n",
              "      <td>11.8889</td>\n",
              "      <td>...</td>\n",
              "      <td>21</td>\n",
              "      <td>30</td>\n",
              "      <td>Tuesday</td>\n",
              "      <td>11</td>\n",
              "      <td>2021</td>\n",
              "      <td>1</td>\n",
              "      <td>1</td>\n",
              "      <td>11.8889</td>\n",
              "      <td>0</td>\n",
              "      <td>1.0000</td>\n",
              "    </tr>\n",
              "    <tr>\n",
              "      <th>21517521</th>\n",
              "      <td>838a8fa992a4aa2fb5a0cf8b15b63755</td>\n",
              "      <td>47860bb4e1a22b44d3c52ee8fe0e9fd2</td>\n",
              "      <td>4304d6a61f3a5df338d54eadf978fa04</td>\n",
              "      <td>2021-11-30 22:11:07</td>\n",
              "      <td>ebbb11ab6298322569941b0a2f76cbf0</td>\n",
              "      <td>4937eaaef6ed6135107bbf2def30ab18</td>\n",
              "      <td>356.6673</td>\n",
              "      <td>CREDITO</td>\n",
              "      <td>1</td>\n",
              "      <td>356.6673</td>\n",
              "      <td>...</td>\n",
              "      <td>22</td>\n",
              "      <td>30</td>\n",
              "      <td>Tuesday</td>\n",
              "      <td>11</td>\n",
              "      <td>2021</td>\n",
              "      <td>1</td>\n",
              "      <td>1</td>\n",
              "      <td>356.6673</td>\n",
              "      <td>0</td>\n",
              "      <td>1.0000</td>\n",
              "    </tr>\n",
              "  </tbody>\n",
              "</table>\n",
              "<p>21517522 rows × 21 columns</p>\n",
              "</div>\n",
              "      <button class=\"colab-df-convert\" onclick=\"convertToInteractive('df-d98a999a-3975-495e-8c89-34dbc68beb13')\"\n",
              "              title=\"Convert this dataframe to an interactive table.\"\n",
              "              style=\"display:none;\">\n",
              "        \n",
              "  <svg xmlns=\"http://www.w3.org/2000/svg\" height=\"24px\"viewBox=\"0 0 24 24\"\n",
              "       width=\"24px\">\n",
              "    <path d=\"M0 0h24v24H0V0z\" fill=\"none\"/>\n",
              "    <path d=\"M18.56 5.44l.94 2.06.94-2.06 2.06-.94-2.06-.94-.94-2.06-.94 2.06-2.06.94zm-11 1L8.5 8.5l.94-2.06 2.06-.94-2.06-.94L8.5 2.5l-.94 2.06-2.06.94zm10 10l.94 2.06.94-2.06 2.06-.94-2.06-.94-.94-2.06-.94 2.06-2.06.94z\"/><path d=\"M17.41 7.96l-1.37-1.37c-.4-.4-.92-.59-1.43-.59-.52 0-1.04.2-1.43.59L10.3 9.45l-7.72 7.72c-.78.78-.78 2.05 0 2.83L4 21.41c.39.39.9.59 1.41.59.51 0 1.02-.2 1.41-.59l7.78-7.78 2.81-2.81c.8-.78.8-2.07 0-2.86zM5.41 20L4 18.59l7.72-7.72 1.47 1.35L5.41 20z\"/>\n",
              "  </svg>\n",
              "      </button>\n",
              "      \n",
              "  <style>\n",
              "    .colab-df-container {\n",
              "      display:flex;\n",
              "      flex-wrap:wrap;\n",
              "      gap: 12px;\n",
              "    }\n",
              "\n",
              "    .colab-df-convert {\n",
              "      background-color: #E8F0FE;\n",
              "      border: none;\n",
              "      border-radius: 50%;\n",
              "      cursor: pointer;\n",
              "      display: none;\n",
              "      fill: #1967D2;\n",
              "      height: 32px;\n",
              "      padding: 0 0 0 0;\n",
              "      width: 32px;\n",
              "    }\n",
              "\n",
              "    .colab-df-convert:hover {\n",
              "      background-color: #E2EBFA;\n",
              "      box-shadow: 0px 1px 2px rgba(60, 64, 67, 0.3), 0px 1px 3px 1px rgba(60, 64, 67, 0.15);\n",
              "      fill: #174EA6;\n",
              "    }\n",
              "\n",
              "    [theme=dark] .colab-df-convert {\n",
              "      background-color: #3B4455;\n",
              "      fill: #D2E3FC;\n",
              "    }\n",
              "\n",
              "    [theme=dark] .colab-df-convert:hover {\n",
              "      background-color: #434B5C;\n",
              "      box-shadow: 0px 1px 3px 1px rgba(0, 0, 0, 0.15);\n",
              "      filter: drop-shadow(0px 1px 2px rgba(0, 0, 0, 0.3));\n",
              "      fill: #FFFFFF;\n",
              "    }\n",
              "  </style>\n",
              "\n",
              "      <script>\n",
              "        const buttonEl =\n",
              "          document.querySelector('#df-d98a999a-3975-495e-8c89-34dbc68beb13 button.colab-df-convert');\n",
              "        buttonEl.style.display =\n",
              "          google.colab.kernel.accessAllowed ? 'block' : 'none';\n",
              "\n",
              "        async function convertToInteractive(key) {\n",
              "          const element = document.querySelector('#df-d98a999a-3975-495e-8c89-34dbc68beb13');\n",
              "          const dataTable =\n",
              "            await google.colab.kernel.invokeFunction('convertToInteractive',\n",
              "                                                     [key], {});\n",
              "          if (!dataTable) return;\n",
              "\n",
              "          const docLinkHtml = 'Like what you see? Visit the ' +\n",
              "            '<a target=\"_blank\" href=https://colab.research.google.com/notebooks/data_table.ipynb>data table notebook</a>'\n",
              "            + ' to learn more about interactive tables.';\n",
              "          element.innerHTML = '';\n",
              "          dataTable['output_type'] = 'display_data';\n",
              "          await google.colab.output.renderOutput(dataTable, element);\n",
              "          const docLink = document.createElement('div');\n",
              "          docLink.innerHTML = docLinkHtml;\n",
              "          element.appendChild(docLink);\n",
              "        }\n",
              "      </script>\n",
              "    </div>\n",
              "  </div>\n",
              "  "
            ]
          },
          "metadata": {},
          "execution_count": 53
        }
      ]
    },
    {
      "cell_type": "markdown",
      "source": [
        "obtenemos datos segun el objetivo entender que cliente pueden tener una mala practica"
      ],
      "metadata": {
        "id": "oDjZQN7nkGVA"
      }
    },
    {
      "cell_type": "code",
      "source": [
        "datosok.sort_values(['fraccionamientos'],ascending=False).head(5)"
      ],
      "metadata": {
        "colab": {
          "base_uri": "https://localhost:8080/",
          "height": 300
        },
        "id": "tNLKUjByU02Z",
        "outputId": "1a109c95-15c8-4e7a-cf75-cbc8ecbce39b"
      },
      "execution_count": 54,
      "outputs": [
        {
          "output_type": "execute_result",
          "data": {
            "text/plain": [
              "                              merchant_id                               _id  \\\n",
              "9837002  838a8fa992a4aa2fb5a0cf8b15b63755  7563fb2aa7e8a4a5a6a682cdf7608502   \n",
              "9837046  838a8fa992a4aa2fb5a0cf8b15b63755  e4894831a64b8f792c7f717f61e4f587   \n",
              "9837070  838a8fa992a4aa2fb5a0cf8b15b63755  edc8b29e778de0dbf993f2ccef68c30e   \n",
              "9837069  838a8fa992a4aa2fb5a0cf8b15b63755  622d9f5ac8e630991ca695be1c313026   \n",
              "9837068  838a8fa992a4aa2fb5a0cf8b15b63755  d96ff026d4989ec9725be42b97add4b4   \n",
              "\n",
              "                               subsidiary    transaction_date  \\\n",
              "9837002  f54e0b6b32831a6307361ed959903e76 2021-02-08 12:42:56   \n",
              "9837046  f54e0b6b32831a6307361ed959903e76 2021-02-08 18:56:59   \n",
              "9837070  f54e0b6b32831a6307361ed959903e76 2021-02-08 11:38:11   \n",
              "9837069  f54e0b6b32831a6307361ed959903e76 2021-02-08 20:39:35   \n",
              "9837068  f54e0b6b32831a6307361ed959903e76 2021-02-08 09:33:28   \n",
              "\n",
              "                           account_number                           user_id  \\\n",
              "9837002  fc451c5e1737cf9d60fc983db47ff491  7d046dfeb0ae6ebf51f3354a627a9a51   \n",
              "9837046  fc451c5e1737cf9d60fc983db47ff491  7d046dfeb0ae6ebf51f3354a627a9a51   \n",
              "9837070  fc451c5e1737cf9d60fc983db47ff491  7d046dfeb0ae6ebf51f3354a627a9a51   \n",
              "9837069  fc451c5e1737cf9d60fc983db47ff491  7d046dfeb0ae6ebf51f3354a627a9a51   \n",
              "9837068  fc451c5e1737cf9d60fc983db47ff491  7d046dfeb0ae6ebf51f3354a627a9a51   \n",
              "\n",
              "         transaction_amount transaction_type  sec  mnt_real  ...  hora  dia  \\\n",
              "9837002             17.8334           DEBITO  106 3179.0945  ...    12    8   \n",
              "9837046             17.8334           DEBITO  269 3179.0945  ...    18    8   \n",
              "9837070              5.9445           DEBITO   76 3179.0945  ...    11    8   \n",
              "9837069              5.9445           DEBITO  331 3179.0945  ...    20    8   \n",
              "9837068              5.9445           DEBITO   33 3179.0945  ...     9    8   \n",
              "\n",
              "         dia_sem mes  year  cant_month_tran  cant_month_txs  txs_mes  \\\n",
              "9837002   Monday   2  2021                1               1   8.8245   \n",
              "9837046   Monday   2  2021                1               1   8.8245   \n",
              "9837070   Monday   2  2021                1               1   8.8245   \n",
              "9837069   Monday   2  2021                1               1   8.8245   \n",
              "9837068   Monday   2  2021                1               1   8.8245   \n",
              "\n",
              "         malapract  monto_frac  \n",
              "9837002          1      0.0056  \n",
              "9837046          1      0.0056  \n",
              "9837070          1      0.0019  \n",
              "9837069          1      0.0019  \n",
              "9837068          1      0.0019  \n",
              "\n",
              "[5 rows x 21 columns]"
            ],
            "text/html": [
              "\n",
              "  <div id=\"df-c5629714-c524-4c90-960f-0f47b6394d7a\">\n",
              "    <div class=\"colab-df-container\">\n",
              "      <div>\n",
              "<style scoped>\n",
              "    .dataframe tbody tr th:only-of-type {\n",
              "        vertical-align: middle;\n",
              "    }\n",
              "\n",
              "    .dataframe tbody tr th {\n",
              "        vertical-align: top;\n",
              "    }\n",
              "\n",
              "    .dataframe thead th {\n",
              "        text-align: right;\n",
              "    }\n",
              "</style>\n",
              "<table border=\"1\" class=\"dataframe\">\n",
              "  <thead>\n",
              "    <tr style=\"text-align: right;\">\n",
              "      <th></th>\n",
              "      <th>merchant_id</th>\n",
              "      <th>_id</th>\n",
              "      <th>subsidiary</th>\n",
              "      <th>transaction_date</th>\n",
              "      <th>account_number</th>\n",
              "      <th>user_id</th>\n",
              "      <th>transaction_amount</th>\n",
              "      <th>transaction_type</th>\n",
              "      <th>sec</th>\n",
              "      <th>mnt_real</th>\n",
              "      <th>...</th>\n",
              "      <th>hora</th>\n",
              "      <th>dia</th>\n",
              "      <th>dia_sem</th>\n",
              "      <th>mes</th>\n",
              "      <th>year</th>\n",
              "      <th>cant_month_tran</th>\n",
              "      <th>cant_month_txs</th>\n",
              "      <th>txs_mes</th>\n",
              "      <th>malapract</th>\n",
              "      <th>monto_frac</th>\n",
              "    </tr>\n",
              "  </thead>\n",
              "  <tbody>\n",
              "    <tr>\n",
              "      <th>9837002</th>\n",
              "      <td>838a8fa992a4aa2fb5a0cf8b15b63755</td>\n",
              "      <td>7563fb2aa7e8a4a5a6a682cdf7608502</td>\n",
              "      <td>f54e0b6b32831a6307361ed959903e76</td>\n",
              "      <td>2021-02-08 12:42:56</td>\n",
              "      <td>fc451c5e1737cf9d60fc983db47ff491</td>\n",
              "      <td>7d046dfeb0ae6ebf51f3354a627a9a51</td>\n",
              "      <td>17.8334</td>\n",
              "      <td>DEBITO</td>\n",
              "      <td>106</td>\n",
              "      <td>3179.0945</td>\n",
              "      <td>...</td>\n",
              "      <td>12</td>\n",
              "      <td>8</td>\n",
              "      <td>Monday</td>\n",
              "      <td>2</td>\n",
              "      <td>2021</td>\n",
              "      <td>1</td>\n",
              "      <td>1</td>\n",
              "      <td>8.8245</td>\n",
              "      <td>1</td>\n",
              "      <td>0.0056</td>\n",
              "    </tr>\n",
              "    <tr>\n",
              "      <th>9837046</th>\n",
              "      <td>838a8fa992a4aa2fb5a0cf8b15b63755</td>\n",
              "      <td>e4894831a64b8f792c7f717f61e4f587</td>\n",
              "      <td>f54e0b6b32831a6307361ed959903e76</td>\n",
              "      <td>2021-02-08 18:56:59</td>\n",
              "      <td>fc451c5e1737cf9d60fc983db47ff491</td>\n",
              "      <td>7d046dfeb0ae6ebf51f3354a627a9a51</td>\n",
              "      <td>17.8334</td>\n",
              "      <td>DEBITO</td>\n",
              "      <td>269</td>\n",
              "      <td>3179.0945</td>\n",
              "      <td>...</td>\n",
              "      <td>18</td>\n",
              "      <td>8</td>\n",
              "      <td>Monday</td>\n",
              "      <td>2</td>\n",
              "      <td>2021</td>\n",
              "      <td>1</td>\n",
              "      <td>1</td>\n",
              "      <td>8.8245</td>\n",
              "      <td>1</td>\n",
              "      <td>0.0056</td>\n",
              "    </tr>\n",
              "    <tr>\n",
              "      <th>9837070</th>\n",
              "      <td>838a8fa992a4aa2fb5a0cf8b15b63755</td>\n",
              "      <td>edc8b29e778de0dbf993f2ccef68c30e</td>\n",
              "      <td>f54e0b6b32831a6307361ed959903e76</td>\n",
              "      <td>2021-02-08 11:38:11</td>\n",
              "      <td>fc451c5e1737cf9d60fc983db47ff491</td>\n",
              "      <td>7d046dfeb0ae6ebf51f3354a627a9a51</td>\n",
              "      <td>5.9445</td>\n",
              "      <td>DEBITO</td>\n",
              "      <td>76</td>\n",
              "      <td>3179.0945</td>\n",
              "      <td>...</td>\n",
              "      <td>11</td>\n",
              "      <td>8</td>\n",
              "      <td>Monday</td>\n",
              "      <td>2</td>\n",
              "      <td>2021</td>\n",
              "      <td>1</td>\n",
              "      <td>1</td>\n",
              "      <td>8.8245</td>\n",
              "      <td>1</td>\n",
              "      <td>0.0019</td>\n",
              "    </tr>\n",
              "    <tr>\n",
              "      <th>9837069</th>\n",
              "      <td>838a8fa992a4aa2fb5a0cf8b15b63755</td>\n",
              "      <td>622d9f5ac8e630991ca695be1c313026</td>\n",
              "      <td>f54e0b6b32831a6307361ed959903e76</td>\n",
              "      <td>2021-02-08 20:39:35</td>\n",
              "      <td>fc451c5e1737cf9d60fc983db47ff491</td>\n",
              "      <td>7d046dfeb0ae6ebf51f3354a627a9a51</td>\n",
              "      <td>5.9445</td>\n",
              "      <td>DEBITO</td>\n",
              "      <td>331</td>\n",
              "      <td>3179.0945</td>\n",
              "      <td>...</td>\n",
              "      <td>20</td>\n",
              "      <td>8</td>\n",
              "      <td>Monday</td>\n",
              "      <td>2</td>\n",
              "      <td>2021</td>\n",
              "      <td>1</td>\n",
              "      <td>1</td>\n",
              "      <td>8.8245</td>\n",
              "      <td>1</td>\n",
              "      <td>0.0019</td>\n",
              "    </tr>\n",
              "    <tr>\n",
              "      <th>9837068</th>\n",
              "      <td>838a8fa992a4aa2fb5a0cf8b15b63755</td>\n",
              "      <td>d96ff026d4989ec9725be42b97add4b4</td>\n",
              "      <td>f54e0b6b32831a6307361ed959903e76</td>\n",
              "      <td>2021-02-08 09:33:28</td>\n",
              "      <td>fc451c5e1737cf9d60fc983db47ff491</td>\n",
              "      <td>7d046dfeb0ae6ebf51f3354a627a9a51</td>\n",
              "      <td>5.9445</td>\n",
              "      <td>DEBITO</td>\n",
              "      <td>33</td>\n",
              "      <td>3179.0945</td>\n",
              "      <td>...</td>\n",
              "      <td>9</td>\n",
              "      <td>8</td>\n",
              "      <td>Monday</td>\n",
              "      <td>2</td>\n",
              "      <td>2021</td>\n",
              "      <td>1</td>\n",
              "      <td>1</td>\n",
              "      <td>8.8245</td>\n",
              "      <td>1</td>\n",
              "      <td>0.0019</td>\n",
              "    </tr>\n",
              "  </tbody>\n",
              "</table>\n",
              "<p>5 rows × 21 columns</p>\n",
              "</div>\n",
              "      <button class=\"colab-df-convert\" onclick=\"convertToInteractive('df-c5629714-c524-4c90-960f-0f47b6394d7a')\"\n",
              "              title=\"Convert this dataframe to an interactive table.\"\n",
              "              style=\"display:none;\">\n",
              "        \n",
              "  <svg xmlns=\"http://www.w3.org/2000/svg\" height=\"24px\"viewBox=\"0 0 24 24\"\n",
              "       width=\"24px\">\n",
              "    <path d=\"M0 0h24v24H0V0z\" fill=\"none\"/>\n",
              "    <path d=\"M18.56 5.44l.94 2.06.94-2.06 2.06-.94-2.06-.94-.94-2.06-.94 2.06-2.06.94zm-11 1L8.5 8.5l.94-2.06 2.06-.94-2.06-.94L8.5 2.5l-.94 2.06-2.06.94zm10 10l.94 2.06.94-2.06 2.06-.94-2.06-.94-.94-2.06-.94 2.06-2.06.94z\"/><path d=\"M17.41 7.96l-1.37-1.37c-.4-.4-.92-.59-1.43-.59-.52 0-1.04.2-1.43.59L10.3 9.45l-7.72 7.72c-.78.78-.78 2.05 0 2.83L4 21.41c.39.39.9.59 1.41.59.51 0 1.02-.2 1.41-.59l7.78-7.78 2.81-2.81c.8-.78.8-2.07 0-2.86zM5.41 20L4 18.59l7.72-7.72 1.47 1.35L5.41 20z\"/>\n",
              "  </svg>\n",
              "      </button>\n",
              "      \n",
              "  <style>\n",
              "    .colab-df-container {\n",
              "      display:flex;\n",
              "      flex-wrap:wrap;\n",
              "      gap: 12px;\n",
              "    }\n",
              "\n",
              "    .colab-df-convert {\n",
              "      background-color: #E8F0FE;\n",
              "      border: none;\n",
              "      border-radius: 50%;\n",
              "      cursor: pointer;\n",
              "      display: none;\n",
              "      fill: #1967D2;\n",
              "      height: 32px;\n",
              "      padding: 0 0 0 0;\n",
              "      width: 32px;\n",
              "    }\n",
              "\n",
              "    .colab-df-convert:hover {\n",
              "      background-color: #E2EBFA;\n",
              "      box-shadow: 0px 1px 2px rgba(60, 64, 67, 0.3), 0px 1px 3px 1px rgba(60, 64, 67, 0.15);\n",
              "      fill: #174EA6;\n",
              "    }\n",
              "\n",
              "    [theme=dark] .colab-df-convert {\n",
              "      background-color: #3B4455;\n",
              "      fill: #D2E3FC;\n",
              "    }\n",
              "\n",
              "    [theme=dark] .colab-df-convert:hover {\n",
              "      background-color: #434B5C;\n",
              "      box-shadow: 0px 1px 3px 1px rgba(0, 0, 0, 0.15);\n",
              "      filter: drop-shadow(0px 1px 2px rgba(0, 0, 0, 0.3));\n",
              "      fill: #FFFFFF;\n",
              "    }\n",
              "  </style>\n",
              "\n",
              "      <script>\n",
              "        const buttonEl =\n",
              "          document.querySelector('#df-c5629714-c524-4c90-960f-0f47b6394d7a button.colab-df-convert');\n",
              "        buttonEl.style.display =\n",
              "          google.colab.kernel.accessAllowed ? 'block' : 'none';\n",
              "\n",
              "        async function convertToInteractive(key) {\n",
              "          const element = document.querySelector('#df-c5629714-c524-4c90-960f-0f47b6394d7a');\n",
              "          const dataTable =\n",
              "            await google.colab.kernel.invokeFunction('convertToInteractive',\n",
              "                                                     [key], {});\n",
              "          if (!dataTable) return;\n",
              "\n",
              "          const docLinkHtml = 'Like what you see? Visit the ' +\n",
              "            '<a target=\"_blank\" href=https://colab.research.google.com/notebooks/data_table.ipynb>data table notebook</a>'\n",
              "            + ' to learn more about interactive tables.';\n",
              "          element.innerHTML = '';\n",
              "          dataTable['output_type'] = 'display_data';\n",
              "          await google.colab.output.renderOutput(dataTable, element);\n",
              "          const docLink = document.createElement('div');\n",
              "          docLink.innerHTML = docLinkHtml;\n",
              "          element.appendChild(docLink);\n",
              "        }\n",
              "      </script>\n",
              "    </div>\n",
              "  </div>\n",
              "  "
            ]
          },
          "metadata": {},
          "execution_count": 54
        }
      ]
    },
    {
      "cell_type": "code",
      "source": [
        "#Variable Respuesta malapract as int\n",
        "datosok['malapract']=datosok['malapract'].astype(int)"
      ],
      "metadata": {
        "id": "q5fdhTB9VBHx"
      },
      "execution_count": 55,
      "outputs": []
    },
    {
      "cell_type": "code",
      "source": [
        "datosok['malapract'].hist()"
      ],
      "metadata": {
        "colab": {
          "base_uri": "https://localhost:8080/",
          "height": 294
        },
        "id": "4OOFprQyVcQu",
        "outputId": "c17150d0-1236-48d1-c20c-2da9da25ba80"
      },
      "execution_count": 56,
      "outputs": [
        {
          "output_type": "execute_result",
          "data": {
            "text/plain": [
              "<matplotlib.axes._subplots.AxesSubplot at 0x7f6de44a48b0>"
            ]
          },
          "metadata": {},
          "execution_count": 56
        },
        {
          "output_type": "display_data",
          "data": {
            "text/plain": [
              "<Figure size 432x288 with 1 Axes>"
            ],
            "image/png": "[encoded data removed]"
          },
          "metadata": {
            "needs_background": "light"
          }
        }
      ]
    },
    {
      "cell_type": "code",
      "source": [
        "dmod=datosok.copy()"
      ],
      "metadata": {
        "id": "urDmnV-yVvc5"
      },
      "execution_count": 57,
      "outputs": []
    },
    {
      "cell_type": "code",
      "source": [
        "#limpio base\n",
        "dmod.drop(['_id','subsidiary','account_number','user_id','year','mes','cant_month_tran','transaction_date','mnt_real','dia_sem','txs_mes','monto_frac','cant_month_txs','fraccionamientos'],axis=1,inplace=True)"
      ],
      "metadata": {
        "id": "5D9_LWNgWDV5"
      },
      "execution_count": 64,
      "outputs": []
    },
    {
      "cell_type": "code",
      "source": [
        "len((dmod.drop('malapract', axis = 'columns')).columns)"
      ],
      "metadata": {
        "colab": {
          "base_uri": "https://localhost:8080/"
        },
        "id": "KH438dAzWjqs",
        "outputId": "274f9519-5dd1-4bee-8839-7ce9c0c969af"
      },
      "execution_count": 65,
      "outputs": [
        {
          "output_type": "execute_result",
          "data": {
            "text/plain": [
              "6"
            ]
          },
          "metadata": {},
          "execution_count": 65
        }
      ]
    },
    {
      "cell_type": "code",
      "source": [
        "dmod.info()"
      ],
      "metadata": {
        "colab": {
          "base_uri": "https://localhost:8080/"
        },
        "id": "_BFy6bmbXDlI",
        "outputId": "e8d394d9-54ed-4693-d03b-9f4db1b55e1e"
      },
      "execution_count": 62,
      "outputs": [
        {
          "output_type": "stream",
          "name": "stdout",
          "text": [
            "<class 'pandas.core.frame.DataFrame'>\n",
            "RangeIndex: 21517522 entries, 0 to 21517521\n",
            "Data columns (total 8 columns):\n",
            " #   Column              Dtype  \n",
            "---  ------              -----  \n",
            " 0   merchant_id         object \n",
            " 1   transaction_amount  float64\n",
            " 2   transaction_type    object \n",
            " 3   sec                 int64  \n",
            " 4   hora                int64  \n",
            " 5   dia                 int64  \n",
            " 6   cant_month_tran     int64  \n",
            " 7   malapract           int64  \n",
            "dtypes: float64(1), int64(5), object(2)\n",
            "memory usage: 1.3+ GB\n"
          ]
        }
      ]
    },
    {
      "cell_type": "code",
      "source": [
        "X_train, X_test, y_train, y_test = train_test_split(\n",
        "                                        dmod.drop('malapract', axis = 'columns'),\n",
        "                                        dmod['malapract'],\n",
        "                                        train_size   = 0.7,\n",
        "                                        random_state = 1234,\n",
        "                                        stratify=dmod['malapract'],\n",
        "                                        shuffle      = True\n",
        "                                    )"
      ],
      "metadata": {
        "id": "yoWxP4hbXs0q"
      },
      "execution_count": 71,
      "outputs": []
    },
    {
      "cell_type": "markdown",
      "source": [
        "partimos nuestro data frame con el fin de realizar el proceso de entrenamiento y validacion con un 70 30. "
      ],
      "metadata": {
        "id": "AEbp76Eakv1H"
      }
    },
    {
      "cell_type": "code",
      "source": [
        "dmod['malapract'].value_counts(normalize=True)"
      ],
      "metadata": {
        "colab": {
          "base_uri": "https://localhost:8080/"
        },
        "id": "g8zXiuQRYubr",
        "outputId": "a416d49d-760d-4ff9-9eee-2f3721d9bd4e"
      },
      "execution_count": 72,
      "outputs": [
        {
          "output_type": "execute_result",
          "data": {
            "text/plain": [
              "0   0.8243\n",
              "1   0.1757\n",
              "Name: malapract, dtype: float64"
            ]
          },
          "metadata": {},
          "execution_count": 72
        }
      ]
    },
    {
      "cell_type": "markdown",
      "source": [
        "evidenciamos que existe un desbalanceo que nos peude alertar de un sobreajuste en nuestro modelo asi que realizaremos una diferencia de modelos segun la tecnica entrenaremos con esta muestra y vamos a realizar un oversampling para comparar y en dado caso garantizar el no tener sobreajuste"
      ],
      "metadata": {
        "id": "8lswE0ZilAir"
      }
    },
    {
      "cell_type": "code",
      "source": [
        "oversampler=RandomOverSampler(sampling_strategy='minority');\n",
        "X_train,y_train=oversampler.fit_resample(X_train,y_train);\n",
        "print('Composición del training set:')\n",
        "print(y_train.value_counts())\n",
        "print('\\nComposición del test set:')\n",
        "print(y_test.value_counts())"
      ],
      "metadata": {
        "colab": {
          "base_uri": "https://localhost:8080/"
        },
        "id": "oLiTGXegY5xg",
        "outputId": "b13ea3c3-96e5-453a-f568-9849a796f296"
      },
      "execution_count": 73,
      "outputs": [
        {
          "output_type": "stream",
          "name": "stdout",
          "text": [
            "Composición del training set:\n",
            "0    12415079\n",
            "1    12415079\n",
            "Name: malapract, dtype: int64\n",
            "\n",
            "Composición del test set:\n",
            "0    5320748\n",
            "1    1134509\n",
            "Name: malapract, dtype: int64\n"
          ]
        }
      ]
    },
    {
      "cell_type": "code",
      "source": [
        "# Transformaciones para las variables numéricas\n",
        "numeric_transformer = Pipeline(\n",
        "                        steps=[('scaler', StandardScaler())]\n",
        "                      )\n",
        "\n",
        "# Transformaciones para las variables categóricas\n",
        "categorical_transformer = Pipeline(\n",
        "                            steps=[('onehot', OneHotEncoder(handle_unknown='ignore'))]\n",
        "                          )\n",
        "\n",
        "\n",
        "preprocessor = ColumnTransformer(\n",
        "                    transformers=[\n",
        "                        ('numeric', numeric_transformer, make_column_selector(dtype_include=np.number)),\n",
        "                        ('cat', categorical_transformer, make_column_selector(dtype_include='object'))\n",
        "                    ],\n",
        "                    remainder='passthrough'\n",
        "                )"
      ],
      "metadata": {
        "id": "YoLySaPFY9pH"
      },
      "execution_count": 74,
      "outputs": []
    },
    {
      "cell_type": "code",
      "source": [
        "df_dummies = pd.get_dummies(dmod,drop_first=True)"
      ],
      "metadata": {
        "id": "8K_Vgq-aZJwQ"
      },
      "execution_count": 75,
      "outputs": []
    },
    {
      "cell_type": "code",
      "source": [
        "X_train2, X_test2, y_train2, y_test2 = train_test_split(\n",
        "                                        df_dummies.drop('malapract', axis = 'columns'),\n",
        "                                        df_dummies['malapract'],\n",
        "                                        train_size   = 0.7,\n",
        "                                        random_state = 1234,\n",
        "                                        stratify=dmod['malapract'],\n",
        "                                        shuffle      = True\n",
        "                                    )"
      ],
      "metadata": {
        "id": "y8VPtVzMZP8N"
      },
      "execution_count": 76,
      "outputs": []
    },
    {
      "cell_type": "code",
      "source": [
        "standar_scaler = preprocessing.StandardScaler()\n",
        "\n",
        "x_minmax = standar_scaler.fit_transform(X_train2)\n",
        "X_train2=x_minmax\n",
        "x_minmax1 = standar_scaler.fit_transform(X_test2)\n",
        "X_test2=x_minmax1"
      ],
      "metadata": {
        "id": "ctNf-f1eZi9b"
      },
      "execution_count": 77,
      "outputs": []
    },
    {
      "cell_type": "markdown",
      "source": [
        "se realiza el balanceo y se cuenta con los 2 df para la validacion de metodologias"
      ],
      "metadata": {
        "id": "hYJBLliGlcXS"
      }
    },
    {
      "cell_type": "markdown",
      "source": [
        "5.MODELADO"
      ],
      "metadata": {
        "id": "9Ziyy9hnZp9d"
      }
    },
    {
      "cell_type": "markdown",
      "source": [
        "RANDOM FOREST CLASICO"
      ],
      "metadata": {
        "id": "BUZy06T4bJzE"
      }
    },
    {
      "cell_type": "code",
      "source": [
        "modeloRf=RandomForestClassifier()"
      ],
      "metadata": {
        "id": "qDW61-oLZpK7"
      },
      "execution_count": 78,
      "outputs": []
    },
    {
      "cell_type": "code",
      "source": [
        "pipe_rf = Pipeline([('preprocessing', preprocessor),\n",
        "                 ('modelo', modeloRf)])"
      ],
      "metadata": {
        "id": "zZtBNf9GZmD6"
      },
      "execution_count": 79,
      "outputs": []
    },
    {
      "cell_type": "code",
      "source": [
        "pipe_rf.fit(X_train, y_train)"
      ],
      "metadata": {
        "colab": {
          "base_uri": "https://localhost:8080/"
        },
        "id": "dLMikkISZ3wQ",
        "outputId": "224e4fb9-a4a3-409e-f18f-fe389b6a2cff"
      },
      "execution_count": 80,
      "outputs": [
        {
          "output_type": "execute_result",
          "data": {
            "text/plain": [
              "Pipeline(steps=[('preprocessing',\n",
              "                 ColumnTransformer(remainder='passthrough',\n",
              "                                   transformers=[('numeric',\n",
              "                                                  Pipeline(steps=[('scaler',\n",
              "                                                                   StandardScaler())]),\n",
              "                                                  <sklearn.compose._column_transformer.make_column_selector object at 0x7f6de453f850>),\n",
              "                                                 ('cat',\n",
              "                                                  Pipeline(steps=[('onehot',\n",
              "                                                                   OneHotEncoder(handle_unknown='ignore'))]),\n",
              "                                                  <sklearn.compose._column_transformer.make_column_selector object at 0x7f6de6444d90>)])),\n",
              "                ('modelo', RandomForestClassifier())])"
            ]
          },
          "metadata": {},
          "execution_count": 80
        }
      ]
    },
    {
      "cell_type": "code",
      "source": [
        "y_pred_rf=pipe_rf.predict(X_test)"
      ],
      "metadata": {
        "id": "eNj0reiGZ8rs"
      },
      "execution_count": 81,
      "outputs": []
    },
    {
      "cell_type": "code",
      "source": [
        "print(classification_report(y_test, y_pred_rf))"
      ],
      "metadata": {
        "colab": {
          "base_uri": "https://localhost:8080/"
        },
        "id": "aq7CJ6MUZ-mY",
        "outputId": "536e10dd-1802-45cd-cbe3-7b3fc89c7195"
      },
      "execution_count": 82,
      "outputs": [
        {
          "output_type": "stream",
          "name": "stdout",
          "text": [
            "              precision    recall  f1-score   support\n",
            "\n",
            "           0       0.96      0.94      0.95   5320748\n",
            "           1       0.74      0.82      0.78   1134509\n",
            "\n",
            "    accuracy                           0.92   6455257\n",
            "   macro avg       0.85      0.88      0.86   6455257\n",
            "weighted avg       0.92      0.92      0.92   6455257\n",
            "\n"
          ]
        }
      ]
    },
    {
      "cell_type": "code",
      "source": [
        "f1_rf = f1_score(y_test, y_pred_rf)"
      ],
      "metadata": {
        "id": "7tKhz3SAaAgS"
      },
      "execution_count": 83,
      "outputs": []
    },
    {
      "cell_type": "code",
      "source": [
        "fpr, tpr, _ = roc_curve(y_test, y_pred_rf)\n",
        "roc_auc_rf = auc(fpr, tpr)"
      ],
      "metadata": {
        "id": "GtiU6Ho9aCvj"
      },
      "execution_count": 84,
      "outputs": []
    },
    {
      "cell_type": "code",
      "source": [
        "plt.plot(fpr, tpr, color='darkorange',\n",
        "         lw=2, label='ROC curve (area = %0.2f)' % roc_auc_rf)\n",
        "plt.plot([0, 1], [0, 1], color='navy', lw=2, linestyle='--')\n",
        "plt.xlim([0.0, 1.0])\n",
        "plt.ylim([0.0, 1.05])\n",
        "plt.xlabel('False Positive Rate')\n",
        "plt.ylabel('True Positive Rate')\n",
        "plt.title('ROC AUC')\n",
        "plt.legend(loc=\"lower right\")\n",
        "plt.show()"
      ],
      "metadata": {
        "colab": {
          "base_uri": "https://localhost:8080/",
          "height": 299
        },
        "id": "lU4Icji0aEqf",
        "outputId": "8d1f3868-6a8d-4937-e2b7-a90c26774e5e"
      },
      "execution_count": 86,
      "outputs": [
        {
          "output_type": "display_data",
          "data": {
            "text/plain": [
              "<Figure size 432x288 with 1 Axes>"
            ],
            "image/png": "[encoded data removed]"
          },
          "metadata": {
            "needs_background": "light"
          }
        }
      ]
    },
    {
      "cell_type": "markdown",
      "source": [
        "RANDOM FOREST BALANCEADO"
      ],
      "metadata": {
        "id": "rgRx1LdhbOEU"
      }
    },
    {
      "cell_type": "code",
      "source": [
        "modelorf_2=RandomForestClassifier(class_weight='balanced_subsample')"
      ],
      "metadata": {
        "id": "5QZT1RpBbYoS"
      },
      "execution_count": 87,
      "outputs": []
    },
    {
      "cell_type": "code",
      "source": [
        "pipe_rf2 = Pipeline([('preprocessing', preprocessor),\n",
        "                 ('modelo', modelorf_2)])"
      ],
      "metadata": {
        "id": "IQgKqVTbbbYo"
      },
      "execution_count": 88,
      "outputs": []
    },
    {
      "cell_type": "code",
      "source": [
        "pipe_rf2.fit(X_train, y_train)"
      ],
      "metadata": {
        "colab": {
          "base_uri": "https://localhost:8080/"
        },
        "id": "KD7ZVgj4bef8",
        "outputId": "eda71874-4077-4843-dd11-2d898dade7a3"
      },
      "execution_count": 89,
      "outputs": [
        {
          "output_type": "execute_result",
          "data": {
            "text/plain": [
              "Pipeline(steps=[('preprocessing',\n",
              "                 ColumnTransformer(remainder='passthrough',\n",
              "                                   transformers=[('numeric',\n",
              "                                                  Pipeline(steps=[('scaler',\n",
              "                                                                   StandardScaler())]),\n",
              "                                                  <sklearn.compose._column_transformer.make_column_selector object at 0x7f6de453f850>),\n",
              "                                                 ('cat',\n",
              "                                                  Pipeline(steps=[('onehot',\n",
              "                                                                   OneHotEncoder(handle_unknown='ignore'))]),\n",
              "                                                  <sklearn.compose._column_transformer.make_column_selector object at 0x7f6de6444d90>)])),\n",
              "                ('modelo',\n",
              "                 RandomForestClassifier(class_weight='balanced_subsample'))])"
            ]
          },
          "metadata": {},
          "execution_count": 89
        }
      ]
    },
    {
      "cell_type": "code",
      "source": [
        "y_pred_rf2=pipe_rf2.predict(X_test)"
      ],
      "metadata": {
        "id": "R3Ef8LkPbie6"
      },
      "execution_count": 90,
      "outputs": []
    },
    {
      "cell_type": "code",
      "source": [
        "print(classification_report(y_test, y_pred_rf2))"
      ],
      "metadata": {
        "colab": {
          "base_uri": "https://localhost:8080/"
        },
        "id": "yhqEBPcsbjBD",
        "outputId": "e0df2159-a681-429e-b9ca-e51e09ec1386"
      },
      "execution_count": 91,
      "outputs": [
        {
          "output_type": "stream",
          "name": "stdout",
          "text": [
            "              precision    recall  f1-score   support\n",
            "\n",
            "           0       0.96      0.94      0.95   5320748\n",
            "           1       0.74      0.82      0.78   1134509\n",
            "\n",
            "    accuracy                           0.92   6455257\n",
            "   macro avg       0.85      0.88      0.86   6455257\n",
            "weighted avg       0.92      0.92      0.92   6455257\n",
            "\n"
          ]
        }
      ]
    },
    {
      "cell_type": "code",
      "source": [
        "f1_rf2 = f1_score(y_test, y_pred_rf2)"
      ],
      "metadata": {
        "id": "k2SG9qsgblS6"
      },
      "execution_count": 92,
      "outputs": []
    },
    {
      "cell_type": "code",
      "source": [
        "fpr, tpr, _ = roc_curve(y_test, y_pred_rf2)\n",
        "roc_auc_rf2 = auc(fpr, tpr)"
      ],
      "metadata": {
        "id": "1EHFOwgAbncL"
      },
      "execution_count": 93,
      "outputs": []
    },
    {
      "cell_type": "code",
      "source": [
        "plt.plot(fpr, tpr, color='darkorange',\n",
        "         lw=2, label='ROC curve (area = %0.2f)' % roc_auc_rf2)\n",
        "plt.plot([0, 1], [0, 1], color='navy', lw=2, linestyle='--')\n",
        "plt.xlim([0.0, 1.0])\n",
        "plt.ylim([0.0, 1.05])\n",
        "plt.xlabel('False Positive Rate')\n",
        "plt.ylabel('True Positive Rate')\n",
        "plt.title('ROC AUC')\n",
        "plt.legend(loc=\"lower right\")\n",
        "plt.show()"
      ],
      "metadata": {
        "colab": {
          "base_uri": "https://localhost:8080/",
          "height": 299
        },
        "id": "l9ZBGcwrbq2N",
        "outputId": "73d1d423-b75d-4c4b-9714-d3ef8cccdfd5"
      },
      "execution_count": 94,
      "outputs": [
        {
          "output_type": "display_data",
          "data": {
            "text/plain": [
              "<Figure size 432x288 with 1 Axes>"
            ],
            "image/png": "[encoded data removed]"
          },
          "metadata": {
            "needs_background": "light"
          }
        }
      ]
    },
    {
      "cell_type": "markdown",
      "source": [
        "EXTREME GRADIENT BOOSTING"
      ],
      "metadata": {
        "id": "wS2qmLSNcars"
      }
    },
    {
      "cell_type": "code",
      "source": [
        "modeloXG=XGBClassifier()"
      ],
      "metadata": {
        "id": "ETFQW025cBUE"
      },
      "execution_count": 95,
      "outputs": []
    },
    {
      "cell_type": "code",
      "source": [
        "pipe_xg = Pipeline([('preprocessing', preprocessor),\n",
        "                 ('modelo', modeloXG)])"
      ],
      "metadata": {
        "id": "QA0ceNvxcjPB"
      },
      "execution_count": 96,
      "outputs": []
    },
    {
      "cell_type": "code",
      "source": [
        "pipe_xg.fit(X_train, y_train)"
      ],
      "metadata": {
        "colab": {
          "base_uri": "https://localhost:8080/"
        },
        "id": "Gk5ZUJKhclIo",
        "outputId": "343480f0-7c88-430f-98be-a7929adb5c21"
      },
      "execution_count": 97,
      "outputs": [
        {
          "output_type": "stream",
          "name": "stdout",
          "text": [
            "[05:52:41] WARNING: /workspace/src/learner.cc:686: Tree method is automatically selected to be 'approx' for faster speed. To use old behavior (exact greedy algorithm on single machine), set tree_method to 'exact'.\n"
          ]
        },
        {
          "output_type": "execute_result",
          "data": {
            "text/plain": [
              "Pipeline(steps=[('preprocessing',\n",
              "                 ColumnTransformer(remainder='passthrough',\n",
              "                                   transformers=[('numeric',\n",
              "                                                  Pipeline(steps=[('scaler',\n",
              "                                                                   StandardScaler())]),\n",
              "                                                  <sklearn.compose._column_transformer.make_column_selector object at 0x7f6de453f850>),\n",
              "                                                 ('cat',\n",
              "                                                  Pipeline(steps=[('onehot',\n",
              "                                                                   OneHotEncoder(handle_unknown='ignore'))]),\n",
              "                                                  <sklearn.compose._column_transformer.make_column_selector object at 0x7f6de6444d90>)])),\n",
              "                ('modelo', XGBClassifier())])"
            ]
          },
          "metadata": {},
          "execution_count": 97
        }
      ]
    },
    {
      "cell_type": "code",
      "source": [
        "y_pred_xg=pipe_xg.predict(X_test)"
      ],
      "metadata": {
        "id": "BKl78nNzcoe_"
      },
      "execution_count": 98,
      "outputs": []
    },
    {
      "cell_type": "code",
      "source": [
        "print(classification_report(y_test, y_pred_xg))"
      ],
      "metadata": {
        "colab": {
          "base_uri": "https://localhost:8080/"
        },
        "id": "OEi8I8eCcq1T",
        "outputId": "53c7c8cb-5bb8-47e3-cad9-34a45cfd325d"
      },
      "execution_count": 99,
      "outputs": [
        {
          "output_type": "stream",
          "name": "stdout",
          "text": [
            "              precision    recall  f1-score   support\n",
            "\n",
            "           0       0.96      0.94      0.95   5320748\n",
            "           1       0.74      0.82      0.78   1134509\n",
            "\n",
            "    accuracy                           0.92   6455257\n",
            "   macro avg       0.85      0.88      0.86   6455257\n",
            "weighted avg       0.92      0.92      0.92   6455257\n",
            "\n"
          ]
        }
      ]
    },
    {
      "cell_type": "code",
      "source": [
        "f1_xg = f1_score(y_test, y_pred_xg)"
      ],
      "metadata": {
        "id": "X7YB2zwPcsTG"
      },
      "execution_count": 100,
      "outputs": []
    },
    {
      "cell_type": "code",
      "source": [
        "fpr, tpr, _ = roc_curve(y_test, y_pred_xg)\n",
        "roc_auc_xg = auc(fpr, tpr)"
      ],
      "metadata": {
        "id": "E7WpnHBDcuE6"
      },
      "execution_count": 101,
      "outputs": []
    },
    {
      "cell_type": "code",
      "source": [
        "plt.plot(fpr, tpr, color='darkorange',\n",
        "         lw=2, label='ROC curve (area = %0.2f)' % roc_auc_xg)\n",
        "plt.plot([0, 1], [0, 1], color='navy', lw=2, linestyle='--')\n",
        "plt.xlim([0.0, 1.0])\n",
        "plt.ylim([0.0, 1.05])\n",
        "plt.xlabel('False Positive Rate')\n",
        "plt.ylabel('True Positive Rate')\n",
        "plt.title('ROC AUC')\n",
        "plt.legend(loc=\"lower right\")\n",
        "plt.show()"
      ],
      "metadata": {
        "colab": {
          "base_uri": "https://localhost:8080/",
          "height": 299
        },
        "id": "eq00F6KEcuwa",
        "outputId": "56444538-640e-48aa-86d8-cb5a3d5142f9"
      },
      "execution_count": 102,
      "outputs": [
        {
          "output_type": "display_data",
          "data": {
            "text/plain": [
              "<Figure size 432x288 with 1 Axes>"
            ],
            "image/png": "[encoded data removed]"
          },
          "metadata": {
            "needs_background": "light"
          }
        }
      ]
    },
    {
      "cell_type": "markdown",
      "source": [
        "EXTREME GRADIENT BOOSTING BALANCEADO"
      ],
      "metadata": {
        "id": "egwpJqqacxJD"
      }
    },
    {
      "cell_type": "code",
      "source": [
        "model_xg = XGBClassifier(n_jobs=-1, use_label_encoder=False)"
      ],
      "metadata": {
        "id": "Mgp88bNic3rp"
      },
      "execution_count": 103,
      "outputs": []
    },
    {
      "cell_type": "code",
      "source": [
        "cv = StratifiedKFold(n_splits=3, random_state=123, shuffle=True)"
      ],
      "metadata": {
        "id": "Ica7f110c5xi"
      },
      "execution_count": 104,
      "outputs": []
    },
    {
      "cell_type": "code",
      "source": [
        "#parámetros\n",
        "params = {  \n",
        "    \"n_estimators\": [50,100],      # Number of boosted trees to fit.\n",
        "    \"max_depth\": [1,2,3,4],            # Maximum tree depth for base learners.\n",
        "    \"learning_rate\": [0.01, 0.1],      # Boosting learning rate (xgb’s “eta”)\n",
        "}"
      ],
      "metadata": {
        "id": "y_npT7LTc7hT"
      },
      "execution_count": 105,
      "outputs": []
    },
    {
      "cell_type": "code",
      "source": [
        "xgb = GridSearchCV(model_xg, param_grid=params, cv=cv, verbose=1, n_jobs=-1,scoring='f1')"
      ],
      "metadata": {
        "id": "4vrUT7vPc9Xz"
      },
      "execution_count": 106,
      "outputs": []
    },
    {
      "cell_type": "code",
      "source": [
        "xgb.fit(X_train2,y_train2)"
      ],
      "metadata": {
        "colab": {
          "base_uri": "https://localhost:8080/"
        },
        "id": "go983S3Fc_Mx",
        "outputId": "eae23558-d07c-429b-cb19-66bcea7f3593"
      },
      "execution_count": 107,
      "outputs": [
        {
          "output_type": "stream",
          "name": "stdout",
          "text": [
            "Fitting 3 folds for each of 16 candidates, totalling 48 fits\n"
          ]
        },
        {
          "output_type": "stream",
          "name": "stderr",
          "text": [
            "/usr/local/lib/python3.8/dist-packages/joblib/externals/loky/process_executor.py:700: UserWarning: A worker stopped while some jobs were given to the executor. This can be caused by a too short worker timeout or by a memory leak.\n",
            "  warnings.warn(\n"
          ]
        },
        {
          "output_type": "stream",
          "name": "stdout",
          "text": [
            "[08:07:59] WARNING: /workspace/src/learner.cc:686: Tree method is automatically selected to be 'approx' for faster speed. To use old behavior (exact greedy algorithm on single machine), set tree_method to 'exact'.\n"
          ]
        },
        {
          "output_type": "execute_result",
          "data": {
            "text/plain": [
              "GridSearchCV(cv=StratifiedKFold(n_splits=3, random_state=123, shuffle=True),\n",
              "             estimator=XGBClassifier(n_jobs=-1, use_label_encoder=False),\n",
              "             n_jobs=-1,\n",
              "             param_grid={'learning_rate': [0.01, 0.1],\n",
              "                         'max_depth': [1, 2, 3, 4], 'n_estimators': [50, 100]},\n",
              "             scoring='f1', verbose=1)"
            ]
          },
          "metadata": {},
          "execution_count": 107
        }
      ]
    },
    {
      "cell_type": "code",
      "source": [
        "xgb.best_params_"
      ],
      "metadata": {
        "colab": {
          "base_uri": "https://localhost:8080/"
        },
        "id": "th695TTcdAtI",
        "outputId": "4ce8d12a-2c2e-45eb-f50e-5f98ed0dc3e1"
      },
      "execution_count": 108,
      "outputs": [
        {
          "output_type": "execute_result",
          "data": {
            "text/plain": [
              "{'learning_rate': 0.1, 'max_depth': 4, 'n_estimators': 100}"
            ]
          },
          "metadata": {},
          "execution_count": 108
        }
      ]
    },
    {
      "cell_type": "code",
      "source": [
        "y_pred_xg1=xgb.predict(X_test2)"
      ],
      "metadata": {
        "id": "ikHXxkACdD4U"
      },
      "execution_count": 109,
      "outputs": []
    },
    {
      "cell_type": "code",
      "source": [
        "print(classification_report(y_test, y_pred_xg1))"
      ],
      "metadata": {
        "colab": {
          "base_uri": "https://localhost:8080/"
        },
        "id": "pONkQzwidF5x",
        "outputId": "dc272c3a-1049-45d5-bb89-b425251e9afb"
      },
      "execution_count": 110,
      "outputs": [
        {
          "output_type": "stream",
          "name": "stdout",
          "text": [
            "              precision    recall  f1-score   support\n",
            "\n",
            "           0       0.93      1.00      0.96   5320748\n",
            "           1       1.00      0.63      0.77   1134509\n",
            "\n",
            "    accuracy                           0.94   6455257\n",
            "   macro avg       0.96      0.82      0.87   6455257\n",
            "weighted avg       0.94      0.94      0.93   6455257\n",
            "\n"
          ]
        }
      ]
    },
    {
      "cell_type": "code",
      "source": [
        "f1_xg1 = f1_score(y_test,  y_pred_xg1)"
      ],
      "metadata": {
        "id": "a2ExbW_KdGfS"
      },
      "execution_count": 111,
      "outputs": []
    },
    {
      "cell_type": "code",
      "source": [
        "fpr, tpr, _ = roc_curve(y_test, y_pred_xg1)\n",
        "roc_auc_xg1 = auc(fpr, tpr)"
      ],
      "metadata": {
        "id": "tf_jN5HYdICy"
      },
      "execution_count": 112,
      "outputs": []
    },
    {
      "cell_type": "code",
      "source": [
        "plt.plot(fpr, tpr, color='darkorange',\n",
        "         lw=2, label='ROC curve (area = %0.2f)' % roc_auc_xg1)\n",
        "plt.plot([0, 1], [0, 1], color='navy', lw=2, linestyle='--')\n",
        "plt.xlim([0.0, 1.0])\n",
        "plt.ylim([0.0, 1.05])\n",
        "plt.xlabel('False Positive Rate')\n",
        "plt.ylabel('True Positive Rate')\n",
        "plt.title('ROC AUC')\n",
        "plt.legend(loc=\"lower right\")\n",
        "plt.show()"
      ],
      "metadata": {
        "colab": {
          "base_uri": "https://localhost:8080/",
          "height": 299
        },
        "id": "zNcbH-8xdJ2M",
        "outputId": "34bd8594-a843-4bfe-a188-f812537164b0"
      },
      "execution_count": 113,
      "outputs": [
        {
          "output_type": "display_data",
          "data": {
            "text/plain": [
              "<Figure size 432x288 with 1 Axes>"
            ],
            "image/png": "[encoded data removed]"
          },
          "metadata": {
            "needs_background": "light"
          }
        }
      ]
    },
    {
      "cell_type": "markdown",
      "source": [
        "REGRESION LOGISTICA"
      ],
      "metadata": {
        "id": "Tx_l4fLjdxa4"
      }
    },
    {
      "cell_type": "code",
      "source": [
        "modeloRL=LogisticRegression()"
      ],
      "metadata": {
        "id": "kM1NkU44d1M2"
      },
      "execution_count": 114,
      "outputs": []
    },
    {
      "cell_type": "code",
      "source": [
        "kf = KFold(n_splits=3, shuffle = True)"
      ],
      "metadata": {
        "id": "a0Iuy0ImeH00"
      },
      "execution_count": 115,
      "outputs": []
    },
    {
      "cell_type": "code",
      "source": [
        "selector = RFECV(modeloRL, step = 1, cv=kf, scoring = 'f1', verbose=2)"
      ],
      "metadata": {
        "id": "IgzK4_GWeLMx"
      },
      "execution_count": 116,
      "outputs": []
    },
    {
      "cell_type": "code",
      "source": [
        "selector.fit(X_train2, y_train2)"
      ],
      "metadata": {
        "colab": {
          "base_uri": "https://localhost:8080/"
        },
        "id": "w5BkrAPNeLvr",
        "outputId": "716e2581-f298-4c25-8deb-08a086f19231"
      },
      "execution_count": 117,
      "outputs": [
        {
          "output_type": "stream",
          "name": "stdout",
          "text": [
            "Fitting estimator with 7 features.\n",
            "Fitting estimator with 6 features.\n",
            "Fitting estimator with 5 features.\n",
            "Fitting estimator with 4 features.\n",
            "Fitting estimator with 3 features.\n",
            "Fitting estimator with 2 features.\n",
            "Fitting estimator with 7 features.\n",
            "Fitting estimator with 6 features.\n",
            "Fitting estimator with 5 features.\n",
            "Fitting estimator with 4 features.\n",
            "Fitting estimator with 3 features.\n",
            "Fitting estimator with 2 features.\n",
            "Fitting estimator with 7 features.\n",
            "Fitting estimator with 6 features.\n",
            "Fitting estimator with 5 features.\n",
            "Fitting estimator with 4 features.\n",
            "Fitting estimator with 3 features.\n",
            "Fitting estimator with 2 features.\n",
            "Fitting estimator with 7 features.\n",
            "Fitting estimator with 6 features.\n",
            "Fitting estimator with 5 features.\n",
            "Fitting estimator with 4 features.\n",
            "Fitting estimator with 3 features.\n",
            "Fitting estimator with 2 features.\n"
          ]
        },
        {
          "output_type": "execute_result",
          "data": {
            "text/plain": [
              "RFECV(cv=KFold(n_splits=3, random_state=None, shuffle=True),\n",
              "      estimator=LogisticRegression(), scoring='f1', verbose=2)"
            ]
          },
          "metadata": {},
          "execution_count": 117
        }
      ]
    },
    {
      "cell_type": "code",
      "source": [
        "selector"
      ],
      "metadata": {
        "colab": {
          "base_uri": "https://localhost:8080/"
        },
        "id": "zJw2lllxeSEu",
        "outputId": "376f5d17-fd34-4026-9287-e36227e1066a"
      },
      "execution_count": 118,
      "outputs": [
        {
          "output_type": "execute_result",
          "data": {
            "text/plain": [
              "RFECV(cv=KFold(n_splits=3, random_state=None, shuffle=True),\n",
              "      estimator=LogisticRegression(), scoring='f1', verbose=2)"
            ]
          },
          "metadata": {},
          "execution_count": 118
        }
      ]
    },
    {
      "cell_type": "code",
      "source": [
        "y_pred_RL1=selector.predict(X_test2)"
      ],
      "metadata": {
        "id": "xadxIpjIeSno"
      },
      "execution_count": 119,
      "outputs": []
    },
    {
      "cell_type": "code",
      "source": [
        "print(classification_report(y_test, y_pred_RL1))"
      ],
      "metadata": {
        "colab": {
          "base_uri": "https://localhost:8080/"
        },
        "id": "tH00R8EWeUhk",
        "outputId": "1701df81-0a8c-4b6e-9579-096915b04aad"
      },
      "execution_count": 120,
      "outputs": [
        {
          "output_type": "stream",
          "name": "stdout",
          "text": [
            "              precision    recall  f1-score   support\n",
            "\n",
            "           0       0.93      1.00      0.96   5320748\n",
            "           1       1.00      0.63      0.77   1134509\n",
            "\n",
            "    accuracy                           0.94   6455257\n",
            "   macro avg       0.96      0.82      0.87   6455257\n",
            "weighted avg       0.94      0.94      0.93   6455257\n",
            "\n"
          ]
        }
      ]
    },
    {
      "cell_type": "code",
      "source": [
        "f1_rl1 = f1_score(y_test, y_pred_RL1)"
      ],
      "metadata": {
        "id": "P7JHnrNreW5a"
      },
      "execution_count": 121,
      "outputs": []
    },
    {
      "cell_type": "code",
      "source": [
        "fpr, tpr, _ = roc_curve(y_test, y_pred_RL1)\n",
        "roc_auc_rl1 = auc(fpr, tpr)"
      ],
      "metadata": {
        "id": "cjmXxBNZeY75"
      },
      "execution_count": 122,
      "outputs": []
    },
    {
      "cell_type": "code",
      "source": [
        "plt.plot(fpr, tpr, color='darkorange',\n",
        "         lw=2, label='ROC curve (area = %0.2f)' % roc_auc_rl1)\n",
        "plt.plot([0, 1], [0, 1], color='navy', lw=2, linestyle='--')\n",
        "plt.xlim([0.0, 1.0])\n",
        "plt.ylim([0.0, 1.05])\n",
        "plt.xlabel('False Positive Rate')\n",
        "plt.ylabel('True Positive Rate')\n",
        "plt.title('ROC AUC')\n",
        "plt.legend(loc=\"lower right\")\n",
        "plt.show()"
      ],
      "metadata": {
        "colab": {
          "base_uri": "https://localhost:8080/",
          "height": 299
        },
        "id": "6uSZvnmPea5t",
        "outputId": "96ad9bc3-2778-4218-b4f9-6981e9ce4409"
      },
      "execution_count": 123,
      "outputs": [
        {
          "output_type": "display_data",
          "data": {
            "text/plain": [
              "<Figure size 432x288 with 1 Axes>"
            ],
            "image/png": "[encoded data removed]"
          },
          "metadata": {
            "needs_background": "light"
          }
        }
      ]
    },
    {
      "cell_type": "code",
      "source": [
        "A = [f1_rf,roc_auc_rf]\n",
        "B = [f1_rf2,roc_auc_rf2]\n",
        "C = [f1_xg,roc_auc_xg]\n",
        "D = [f1_xg1,roc_auc_xg1]\n",
        "E = [f1_rl1,roc_auc_rl1]"
      ],
      "metadata": {
        "id": "7AJoUuw5e0kT"
      },
      "execution_count": 124,
      "outputs": []
    },
    {
      "cell_type": "code",
      "source": [
        "total = [A, B, C, D, E]\n",
        "index =[\"RANDOM FOREST CLASICO\", \"RANDOM FOREST BALANCEADO\",\"EXTREME GRADIENT BOOSTING\" ,\"EXTREME GRADIENT BOOSTING BALANCEADO\",\"REGRESION LOGISTICA\"]\n",
        "cols = [\"F1\", \"ROC AUC\"]\n",
        "MedError= pd.DataFrame(total, columns=cols, index=index)\n",
        "MedError.sort_values(['ROC AUC','F1',],ascending=False)"
      ],
      "metadata": {
        "colab": {
          "base_uri": "https://localhost:8080/",
          "height": 206
        },
        "id": "9H_XeSNMe4-s",
        "outputId": "bf70f8d9-353f-49be-b5ca-923d06ccf0b6"
      },
      "execution_count": 125,
      "outputs": [
        {
          "output_type": "execute_result",
          "data": {
            "text/plain": [
              "                                         F1  ROC AUC\n",
              "EXTREME GRADIENT BOOSTING            0.7799   0.8808\n",
              "RANDOM FOREST CLASICO                0.7788   0.8802\n",
              "RANDOM FOREST BALANCEADO             0.7788   0.8801\n",
              "EXTREME GRADIENT BOOSTING BALANCEADO 0.7746   0.8161\n",
              "REGRESION LOGISTICA                  0.7746   0.8161"
            ],
            "text/html": [
              "\n",
              "  <div id=\"df-46ab07b8-4f46-49fc-87a6-895447d038f9\">\n",
              "    <div class=\"colab-df-container\">\n",
              "      <div>\n",
              "<style scoped>\n",
              "    .dataframe tbody tr th:only-of-type {\n",
              "        vertical-align: middle;\n",
              "    }\n",
              "\n",
              "    .dataframe tbody tr th {\n",
              "        vertical-align: top;\n",
              "    }\n",
              "\n",
              "    .dataframe thead th {\n",
              "        text-align: right;\n",
              "    }\n",
              "</style>\n",
              "<table border=\"1\" class=\"dataframe\">\n",
              "  <thead>\n",
              "    <tr style=\"text-align: right;\">\n",
              "      <th></th>\n",
              "      <th>F1</th>\n",
              "      <th>ROC AUC</th>\n",
              "    </tr>\n",
              "  </thead>\n",
              "  <tbody>\n",
              "    <tr>\n",
              "      <th>EXTREME GRADIENT BOOSTING</th>\n",
              "      <td>0.7799</td>\n",
              "      <td>0.8808</td>\n",
              "    </tr>\n",
              "    <tr>\n",
              "      <th>RANDOM FOREST CLASICO</th>\n",
              "      <td>0.7788</td>\n",
              "      <td>0.8802</td>\n",
              "    </tr>\n",
              "    <tr>\n",
              "      <th>RANDOM FOREST BALANCEADO</th>\n",
              "      <td>0.7788</td>\n",
              "      <td>0.8801</td>\n",
              "    </tr>\n",
              "    <tr>\n",
              "      <th>EXTREME GRADIENT BOOSTING BALANCEADO</th>\n",
              "      <td>0.7746</td>\n",
              "      <td>0.8161</td>\n",
              "    </tr>\n",
              "    <tr>\n",
              "      <th>REGRESION LOGISTICA</th>\n",
              "      <td>0.7746</td>\n",
              "      <td>0.8161</td>\n",
              "    </tr>\n",
              "  </tbody>\n",
              "</table>\n",
              "</div>\n",
              "      <button class=\"colab-df-convert\" onclick=\"convertToInteractive('df-46ab07b8-4f46-49fc-87a6-895447d038f9')\"\n",
              "              title=\"Convert this dataframe to an interactive table.\"\n",
              "              style=\"display:none;\">\n",
              "        \n",
              "  <svg xmlns=\"http://www.w3.org/2000/svg\" height=\"24px\"viewBox=\"0 0 24 24\"\n",
              "       width=\"24px\">\n",
              "    <path d=\"M0 0h24v24H0V0z\" fill=\"none\"/>\n",
              "    <path d=\"M18.56 5.44l.94 2.06.94-2.06 2.06-.94-2.06-.94-.94-2.06-.94 2.06-2.06.94zm-11 1L8.5 8.5l.94-2.06 2.06-.94-2.06-.94L8.5 2.5l-.94 2.06-2.06.94zm10 10l.94 2.06.94-2.06 2.06-.94-2.06-.94-.94-2.06-.94 2.06-2.06.94z\"/><path d=\"M17.41 7.96l-1.37-1.37c-.4-.4-.92-.59-1.43-.59-.52 0-1.04.2-1.43.59L10.3 9.45l-7.72 7.72c-.78.78-.78 2.05 0 2.83L4 21.41c.39.39.9.59 1.41.59.51 0 1.02-.2 1.41-.59l7.78-7.78 2.81-2.81c.8-.78.8-2.07 0-2.86zM5.41 20L4 18.59l7.72-7.72 1.47 1.35L5.41 20z\"/>\n",
              "  </svg>\n",
              "      </button>\n",
              "      \n",
              "  <style>\n",
              "    .colab-df-container {\n",
              "      display:flex;\n",
              "      flex-wrap:wrap;\n",
              "      gap: 12px;\n",
              "    }\n",
              "\n",
              "    .colab-df-convert {\n",
              "      background-color: #E8F0FE;\n",
              "      border: none;\n",
              "      border-radius: 50%;\n",
              "      cursor: pointer;\n",
              "      display: none;\n",
              "      fill: #1967D2;\n",
              "      height: 32px;\n",
              "      padding: 0 0 0 0;\n",
              "      width: 32px;\n",
              "    }\n",
              "\n",
              "    .colab-df-convert:hover {\n",
              "      background-color: #E2EBFA;\n",
              "      box-shadow: 0px 1px 2px rgba(60, 64, 67, 0.3), 0px 1px 3px 1px rgba(60, 64, 67, 0.15);\n",
              "      fill: #174EA6;\n",
              "    }\n",
              "\n",
              "    [theme=dark] .colab-df-convert {\n",
              "      background-color: #3B4455;\n",
              "      fill: #D2E3FC;\n",
              "    }\n",
              "\n",
              "    [theme=dark] .colab-df-convert:hover {\n",
              "      background-color: #434B5C;\n",
              "      box-shadow: 0px 1px 3px 1px rgba(0, 0, 0, 0.15);\n",
              "      filter: drop-shadow(0px 1px 2px rgba(0, 0, 0, 0.3));\n",
              "      fill: #FFFFFF;\n",
              "    }\n",
              "  </style>\n",
              "\n",
              "      <script>\n",
              "        const buttonEl =\n",
              "          document.querySelector('#df-46ab07b8-4f46-49fc-87a6-895447d038f9 button.colab-df-convert');\n",
              "        buttonEl.style.display =\n",
              "          google.colab.kernel.accessAllowed ? 'block' : 'none';\n",
              "\n",
              "        async function convertToInteractive(key) {\n",
              "          const element = document.querySelector('#df-46ab07b8-4f46-49fc-87a6-895447d038f9');\n",
              "          const dataTable =\n",
              "            await google.colab.kernel.invokeFunction('convertToInteractive',\n",
              "                                                     [key], {});\n",
              "          if (!dataTable) return;\n",
              "\n",
              "          const docLinkHtml = 'Like what you see? Visit the ' +\n",
              "            '<a target=\"_blank\" href=https://colab.research.google.com/notebooks/data_table.ipynb>data table notebook</a>'\n",
              "            + ' to learn more about interactive tables.';\n",
              "          element.innerHTML = '';\n",
              "          dataTable['output_type'] = 'display_data';\n",
              "          await google.colab.output.renderOutput(dataTable, element);\n",
              "          const docLink = document.createElement('div');\n",
              "          docLink.innerHTML = docLinkHtml;\n",
              "          element.appendChild(docLink);\n",
              "        }\n",
              "      </script>\n",
              "    </div>\n",
              "  </div>\n",
              "  "
            ]
          },
          "metadata": {},
          "execution_count": 125
        }
      ]
    }
  ]
}